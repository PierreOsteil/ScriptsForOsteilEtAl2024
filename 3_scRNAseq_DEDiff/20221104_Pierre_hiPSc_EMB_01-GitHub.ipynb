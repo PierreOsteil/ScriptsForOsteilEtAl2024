{
 "cells": [
  {
   "cell_type": "markdown",
   "metadata": {},
   "source": [
    "# scRNA-Seq analysis of `Osteil` data (3 donors + 3 time points) and annotaing with `Tyser` data\n"
   ]
  },
  {
   "cell_type": "markdown",
   "metadata": {},
   "source": [
    " ## `** Start Part 6 **`\n",
    " "
   ]
  },
  {
   "cell_type": "code",
   "execution_count": null,
   "metadata": {},
   "outputs": [],
   "source": [
    "Sys.setenv(TZ = \"Australia/Sydney\")\n",
    "Sys.time()"
   ]
  },
  {
   "cell_type": "code",
   "execution_count": null,
   "metadata": {},
   "outputs": [],
   "source": [
    "suppressPackageStartupMessages({\n",
    "    library(scMerge)\n",
    "    library(SingleCellExperiment)\n",
    "    library(scater)\n",
    "    library(scran)\n",
    "    library(dplyr)\n",
    "    library(ggpubr)\n",
    "    library(forcats)\n",
    "    library(tidyr)\n",
    "    library(data.table)\n",
    "    library(Seurat)\n",
    "    library(princurve)\n",
    "    library(slingshot)\n",
    "    library(UpSetR)\n",
    "    library(ComplexHeatmap)\n",
    "    library(biomaRt)\n",
    "    library(BiocParallel)\n",
    "    library(edgeR)\n",
    "    library(SC3)\n",
    "    library(scDblFinder)\n",
    "    library(here)\n",
    "    library(clustifyr)\n",
    "    library(ILoReg)\n",
    "    library(cowplot)\n",
    "    library(Matrix)\n",
    "    library(janitor)\n",
    "    library(Cepo)\n",
    "    library(ggrepel)\n",
    "    library(dittoSeq)\n",
    "    library(readxl)\n",
    "    library(future)\n",
    "    library(fs)\n",
    "    library(parallel)\n",
    "})"
   ]
  },
  {
   "cell_type": "code",
   "execution_count": null,
   "metadata": {},
   "outputs": [],
   "source": [
    "baseDir <- \"/home/datascience/20201211_Pierre_scRNA_hiPSc_EMB_01/\"\n",
    "set <- \"20221104_Pierre_hiPSc\"\n",
    "inputDir <- paste0(baseDir, \"counts/\")\n",
    "suppressWarnings(dir.create(paste0(baseDir, set, \"_output\")))\n",
    "outDir <- paste0(baseDir, set, \"_output/\")\n",
    "cat(paste0(\"\\nbaseDir = \", baseDir))\n",
    "cat(paste0(\"\\ninputDir = \", inputDir))\n",
    "cat(paste0(\"\\noutDir = \", outDir))\n",
    "ncpu <- parallel::detectCores()\n",
    "cores = BiocParallel::MulticoreParam(workers = ncpu, progressbar = TRUE)\n",
    "plan(\"multicore\", workers = ncpu)\n",
    "# plan()\n",
    "options(future.globals.maxSize = 200 * 1000 * 1024^2)\n",
    "cat(paste0(\"\\nset name = \", set))\n",
    "species = 2 #  human = 1 and mouse = 2\n",
    "percent.mt_cutoff = 20\n",
    "nFeature_RNA_cutoff = 200\n",
    "nCount_RNA_DOWNcutoff = 1000\n",
    "nCount_RNA_UPcutoff = 25000\n",
    "rbio_pattern = \"^RP(S|L)[0-9]\" # for human: \"^RP(S|L)[0-9]\" for mouse: \n",
    "mito_pattern = \"^MT-\" # for human: \"^RP(S|L)[0-9]\" for mouse: \n",
    "slot = \"data\"\n",
    "test = \"wilcox\""
   ]
  },
  {
   "cell_type": "markdown",
   "metadata": {},
   "source": [
    "## Project description:\n",
    "\n",
    "In this script, we would use 10x data (2 samples) as input and filter them.\n",
    "\n",
    "Samples are:\n"
   ]
  },
  {
   "cell_type": "code",
   "execution_count": null,
   "metadata": {},
   "outputs": [],
   "source": [
    "fs::dir_tree(path = inputDir, recurse = TRUE)"
   ]
  },
  {
   "cell_type": "markdown",
   "metadata": {},
   "source": [
    "## ggplot themes\n",
    "\n",
    "the parameters for ggplot is set here."
   ]
  },
  {
   "cell_type": "code",
   "execution_count": null,
   "metadata": {},
   "outputs": [],
   "source": [
    "ggtheme_hx <- list(theme(axis.text.x=element_text(angle = 0, vjust = 0.5, \n",
    "                                                  size = 12, face=\"bold\"),\n",
    "          axis.text.y=element_text(angle = 0, vjust = 0.5, \n",
    "                                   size = 12, face=\"bold\"),\n",
    "          axis.title=element_text(size=14,face=\"bold\"),\n",
    "          legend.title = element_text(colour=\"black\", \n",
    "                                      size=12, face=\"bold\"),\n",
    "          legend.text = element_text(colour=\"black\", \n",
    "                                     size=12, face=\"bold\"),\n",
    "          strip.text = element_text(size = 20)))\n",
    "ggtheme_vx <- list(theme(axis.text.x=element_text(angle = 90, vjust = 0.5, \n",
    "                                                  size = 12, face=\"bold\"),\n",
    "          axis.text.y=element_text(angle = 0, vjust = 0.5, \n",
    "                                   size = 12, face=\"bold\"),\n",
    "          axis.title=element_text(size=14,face=\"bold\"),\n",
    "          legend.title = element_text(colour=\"black\", \n",
    "                                      size=12, face=\"bold\"),\n",
    "          legend.text = element_text(colour=\"black\", \n",
    "                                     size=12, face=\"bold\"),\n",
    "          strip.text = element_text(size = 20)))"
   ]
  },
  {
   "cell_type": "markdown",
   "metadata": {},
   "source": [
    "# Importing data\n"
   ]
  },
  {
   "cell_type": "markdown",
   "metadata": {},
   "source": [
    "## Import sce object"
   ]
  },
  {
   "cell_type": "code",
   "execution_count": null,
   "metadata": {},
   "outputs": [],
   "source": [
    "sce <- readRDS(paste0(outDir, set, \"_sce_merged_anno2.RDS\"))\n",
    "sce"
   ]
  },
  {
   "cell_type": "code",
   "execution_count": null,
   "metadata": {},
   "outputs": [],
   "source": [
    "colData(sce)[1:2,]"
   ]
  },
  {
   "cell_type": "code",
   "execution_count": null,
   "metadata": {},
   "outputs": [],
   "source": [
    "counts(altExp(sce)) %>% dim()"
   ]
  },
  {
   "cell_type": "code",
   "execution_count": null,
   "metadata": {},
   "outputs": [],
   "source": [
    "counts(sce) %>% dim()"
   ]
  },
  {
   "cell_type": "code",
   "execution_count": null,
   "metadata": {},
   "outputs": [],
   "source": [
    "rownames(counts(sce)) %>% head()"
   ]
  },
  {
   "cell_type": "code",
   "execution_count": null,
   "metadata": {},
   "outputs": [],
   "source": [
    "counts(sce) <- counts(altExp(sce))[rownames(counts(sce)), ]"
   ]
  },
  {
   "cell_type": "code",
   "execution_count": null,
   "metadata": {},
   "outputs": [],
   "source": [
    "assay(sce, \"integrated\") <- assay(sce, \"logcounts\")"
   ]
  },
  {
   "cell_type": "code",
   "execution_count": null,
   "metadata": {},
   "outputs": [],
   "source": [
    "assay(sce, \"logcounts\") <- logcounts(altExp(sce))[rownames(counts(sce)), ]"
   ]
  },
  {
   "cell_type": "code",
   "execution_count": null,
   "metadata": {},
   "outputs": [],
   "source": [
    "sce"
   ]
  },
  {
   "cell_type": "code",
   "execution_count": null,
   "metadata": {},
   "outputs": [],
   "source": [
    "altExp(sce) <- NULL\n",
    "sce"
   ]
  },
  {
   "cell_type": "code",
   "execution_count": null,
   "metadata": {},
   "outputs": [],
   "source": [
    "# Find if a gene is in the list of genes in your sce object:\n",
    "# x=toupper(\"Mgarp\")\n",
    "# x\n",
    "# grep(paste0(\"^\", x, \"$\"), rownames(sce), value = TRUE)"
   ]
  },
  {
   "cell_type": "markdown",
   "metadata": {},
   "source": [
    "## `Gene of ineterest`"
   ]
  },
  {
   "cell_type": "code",
   "execution_count": null,
   "metadata": {},
   "outputs": [],
   "source": [
    "Markers_geneList1 <- c( \"PITX2\", \"NODAL\", \"GBX2\", \"DPPA2\", \"CD24\", \"CHGA\", \"HESX1\", \"OTX2\", \"SFRP1\")\n",
    "Markers_geneList2 <- c(\"DKK1\", \"DKK4\", \"APLNR\", \"CER1\", \"LHX1\", \"MESP1\", \"FGF17\", \"RSPO3\", \n",
    "      \"TBX6\", \"GATA6\", \"T\", \"SNAI1\", \"OTX2\", \"CDH2\", \"VIM\", \"MIXL1\", \"GSC\", \n",
    "      \"SP5\", \"LEF1\", \"ZIC1\", \"NANOG\", \"CDH11\", \"DPPA2\", \"TCF7L1\", \"CD24\")\n",
    "Markers_geneList3 <- c(\"CD24\", \"NANOG\", \"ZIC1\", \"CDH1\", \"T\", \"SOX2\", \"EPCAM\", \"RBM47\", \"GBX2\", \n",
    "      \"DPPA2\", \"TWIST2\", \"MIXL1\", \"VIM\", \"LGR5\", \"SOX17\", \"GATA6\", \"OTX2\")\n",
    "Markers_geneList4 <- c(\"CD24\", \"NANOG\", \"CDH1\", \"SOX2\", \"PDGFRA\", \"EPCAM\", \"T\", \"KDR\", \"CXCR4\", \n",
    "      \"FOXA2\", \"DKK1\", \"FRZB\", \"PORCN\", \"LGR5\", \"VIM\", \"SOX17\", \"CER1\", \"CDH2\", \"OTX2\")\n",
    "Markers_geneList5 <- c(\"Pou5f1\", \"Lefty1\", \"Lefty2\", \"Tbxt\")"
   ]
  },
  {
   "cell_type": "code",
   "execution_count": null,
   "metadata": {},
   "outputs": [],
   "source": [
    "ls(pattern = \"Markers_.*\")\n",
    "# c(Markers_Adrenal_medulla, Markers_Bcells, Markers_Capsular_stem_cells) %>% unique()"
   ]
  },
  {
   "cell_type": "code",
   "execution_count": null,
   "metadata": {},
   "outputs": [],
   "source": [
    "markers_all <- NULL\n",
    "markers <- ls(pattern = \"Markers_.*\")\n",
    "# print(markers)\n",
    "hh <- \"markers_all <- c(\"\n",
    "# hh <- lapply(markers, function(x){\n",
    "#     hh <- paste0(hh,x, \",\")\n",
    "# })\n",
    "# hh <- paste0(hh, \")\")\n",
    "# hh\n",
    "\n",
    "for (i in 1:length(markers)) {\n",
    "  hh <- paste0(hh, markers[i], ',')\n",
    "}\n",
    "hh <- paste0(hh, ')')\n",
    "hh <- gsub(\",)\", \")\", hh)\n",
    "if(TRUE){\n",
    "  cat(hh)\n",
    "}"
   ]
  },
  {
   "cell_type": "code",
   "execution_count": null,
   "metadata": {},
   "outputs": [],
   "source": [
    "eval(parse(text = hh))\n",
    "markers_all <- markers_all %>% sort() %>% unique() %>% toupper()\n",
    "cat(\"All Marker genes:\\n\\n\")\n",
    "print(markers_all)"
   ]
  },
  {
   "cell_type": "code",
   "execution_count": null,
   "metadata": {},
   "outputs": [],
   "source": [
    "cat(\"Name of missing genes in our dataset:\\n\\n\")\n",
    "a <- lapply(markers_all, function(x){\n",
    "#     print(x)\n",
    "    s <- grep(paste0(\"^\", x, \"$\"), rownames(sce), value = TRUE) #%>% sort() %>% print()\n",
    "    if(identical(s, character(0)) ){\n",
    "        print(paste0(x, \" = Not in the list\"))\n",
    "        return(NULL)\n",
    "        \n",
    "    } \n",
    "    else {\n",
    "#         print(x)\n",
    "        return(x)\n",
    "    }\n",
    "})\n",
    "genes <- unlist(a)\n",
    "cat(\"\\n\\nName of available markers genes in our dataset:\\n\\n\")\n",
    "print(genes)"
   ]
  },
  {
   "cell_type": "code",
   "execution_count": null,
   "metadata": {},
   "outputs": [],
   "source": [
    "counts(sce)[genes, 1:2]"
   ]
  },
  {
   "cell_type": "code",
   "execution_count": null,
   "metadata": {},
   "outputs": [],
   "source": [
    "logcounts(sce)[genes, 1:2]"
   ]
  },
  {
   "cell_type": "code",
   "execution_count": null,
   "metadata": {},
   "outputs": [],
   "source": [
    "assay(sce, \"integrated\")[genes, 1:2]"
   ]
  },
  {
   "cell_type": "markdown",
   "metadata": {},
   "source": [
    "## `Donors`"
   ]
  },
  {
   "cell_type": "code",
   "execution_count": null,
   "metadata": {},
   "outputs": [],
   "source": [
    "donors <- levels(as.factor(sce$donor))\n",
    "donors"
   ]
  },
  {
   "cell_type": "markdown",
   "metadata": {},
   "source": [
    "## `Gene expression - UMAP` for sample:"
   ]
  },
  {
   "cell_type": "code",
   "execution_count": null,
   "metadata": {},
   "outputs": [],
   "source": [
    "options(repr.plot.width=25, repr.plot.height=10)\n",
    "i=1\n",
    "cat(donors[[i]])\n",
    "options(repr.plot.width=25, repr.plot.height=10)\n",
    "suppressMessages(suppressWarnings({\n",
    "plots <- lapply(genes, function(x){\n",
    "    dittoDimPlot(subset(sce, ,donor == donors[[i]]), x, assay = \"counts\", reduction.use = \"UMAP\", split.by = NULL, main = paste0(x, \" expression in \", donors[[i]]), size = 2) + ggtheme_hx+scale_color_gradient(name = x, low=\"grey\", high=\"red\")\n",
    "})}))\n",
    "\n",
    "ggpubr::ggarrange(plotlist = plots, common.legend = F, ncol=3, legend = \"right\")\n",
    "\n",
    "pdf(file = paste0(outDir, set, \"_Part6_coex_Ploting_genes_UMAP_\", donors[[i]], \".pdf\"), width = 25, height = 10)\n",
    "ggpubr::ggarrange(plotlist = plots, common.legend = F, ncol=3, legend = \"right\")\n",
    "dev.off()"
   ]
  },
  {
   "cell_type": "markdown",
   "metadata": {},
   "source": [
    "## `Gene expression - TSNE` for sample:"
   ]
  },
  {
   "cell_type": "code",
   "execution_count": null,
   "metadata": {},
   "outputs": [],
   "source": [
    "# options(repr.plot.width=25, repr.plot.height=10)\n",
    "# i=1\n",
    "# cat(donors[[i]])\n",
    "# options(repr.plot.width=25, repr.plot.height=10)\n",
    "# suppressMessages(suppressWarnings({\n",
    "# plots <- lapply(genes, function(x){\n",
    "#     dittoDimPlot(subset(sce, ,donor == donors[[i]]), x, reduction.use = \"TSNE\", split.by = NULL, main = paste0(x, \" expression in \", donors[[i]]), size = 2) + ggtheme_hx+scale_color_gradient(name = x, low=\"grey\", high=\"red\")\n",
    "# })}))\n",
    "\n",
    "# ggpubr::ggarrange(plotlist = plots, common.legend = F, ncol=3, legend = \"right\")\n",
    "\n",
    "# pdf(file = paste0(outDir, set, \"_Part6_coex_Ploting_genes_TSNE_\", donors[[i]], \".pdf\"), width = 25, height = 10)\n",
    "# ggpubr::ggarrange(plotlist = plots, common.legend = F, ncol=3, legend = \"right\")\n",
    "# dev.off()"
   ]
  },
  {
   "cell_type": "markdown",
   "metadata": {},
   "source": [
    "## `Gene expression - UMAP` for sample:"
   ]
  },
  {
   "cell_type": "code",
   "execution_count": null,
   "metadata": {},
   "outputs": [],
   "source": [
    "options(repr.plot.width=25, repr.plot.height=10)\n",
    "i=2\n",
    "cat(donors[[i]])\n",
    "options(repr.plot.width=25, repr.plot.height=10)\n",
    "suppressMessages(suppressWarnings({\n",
    "plots <- lapply(genes, function(x){\n",
    "    dittoDimPlot(subset(sce, ,donor == donors[[i]]), x, assay = \"counts\", reduction.use = \"UMAP\", split.by = NULL, main = paste0(x, \" expression in \", donors[[i]]), size = 2) + ggtheme_hx+scale_color_gradient(name = x, low=\"grey\", high=\"red\")\n",
    "})}))\n",
    "\n",
    "ggpubr::ggarrange(plotlist = plots, common.legend = F, ncol=3, legend = \"right\")\n",
    "\n",
    "pdf(file = paste0(outDir, set, \"_Part6_coex_Ploting_genes_UMAP_\", donors[[i]], \".pdf\"), width = 25, height = 10)\n",
    "ggpubr::ggarrange(plotlist = plots, common.legend = F, ncol=3, legend = \"right\")\n",
    "dev.off()"
   ]
  },
  {
   "cell_type": "markdown",
   "metadata": {},
   "source": [
    "## `Gene expression - TSNE` for sample\""
   ]
  },
  {
   "cell_type": "code",
   "execution_count": null,
   "metadata": {},
   "outputs": [],
   "source": [
    "# options(repr.plot.width=25, repr.plot.height=10)\n",
    "# i=2\n",
    "# cat(donors[[i]])\n",
    "# options(repr.plot.width=25, repr.plot.height=10)\n",
    "# suppressMessages(suppressWarnings({\n",
    "# plots <- lapply(genes, function(x){\n",
    "#     dittoDimPlot(subset(sce, ,donor == donors[[i]]), x, reduction.use = \"TSNE\", split.by = NULL, main = paste0(x, \" expression in \", donors[[i]]), size = 2) + ggtheme_hx+scale_color_gradient(name = x, low=\"grey\", high=\"red\")\n",
    "# })}))\n",
    "\n",
    "# ggpubr::ggarrange(plotlist = plots, common.legend = F, ncol=3, legend = \"right\")\n",
    "\n",
    "# pdf(file = paste0(outDir, set, \"_Part6_coex_Ploting_genes_TSNE_\", donors[[i]], \".pdf\"), width = 25, height = 10)\n",
    "# ggpubr::ggarrange(plotlist = plots, common.legend = F, ncol=3, legend = \"right\")\n",
    "# dev.off()"
   ]
  },
  {
   "cell_type": "markdown",
   "metadata": {},
   "source": [
    "## `Gene expression - UMAP` for sample:"
   ]
  },
  {
   "cell_type": "code",
   "execution_count": null,
   "metadata": {},
   "outputs": [],
   "source": [
    "options(repr.plot.width=25, repr.plot.height=10)\n",
    "i=3\n",
    "cat(donors[[i]])\n",
    "options(repr.plot.width=25, repr.plot.height=10)\n",
    "suppressMessages(suppressWarnings({\n",
    "plots <- lapply(genes, function(x){\n",
    "    dittoDimPlot(subset(sce, ,donor == donors[[i]]), x, reduction.use = \"UMAP\", split.by = NULL, main = paste0(x, \" expression in \", donors[[i]]), size = 2) + ggtheme_hx+scale_color_gradient(name = x, low=\"grey\", high=\"red\")\n",
    "})}))\n",
    "\n",
    "ggpubr::ggarrange(plotlist = plots, common.legend = F, ncol=3, legend = \"right\")\n",
    "\n",
    "pdf(file = paste0(outDir, set, \"_Part6_coex_Ploting_genes_UMAP_\", donors[[i]], \".pdf\"), width = 25, height = 10)\n",
    "ggpubr::ggarrange(plotlist = plots, common.legend = F, ncol=3, legend = \"right\")\n",
    "dev.off()"
   ]
  },
  {
   "cell_type": "markdown",
   "metadata": {},
   "source": [
    "## `Gene expression profile` for `seurat_clusters`"
   ]
  },
  {
   "cell_type": "code",
   "execution_count": null,
   "metadata": {},
   "outputs": [],
   "source": [
    "cat(paste0(\"\\nNumber of seurat_clusters = \", length(table(colData(sce)$seurat_clusters))))\n",
    "cat(\"\\n\\nNumber of cells in each seurat_clusters:\\n\")\n",
    "table(colData(sce)$seurat_clusters, colData(sce)$donor)\n",
    "\n",
    "cat(\"\\n\\nNumber of cells in each scater_clusters:\\n\")\n",
    "table(colData(sce)$label, colData(sce)$donor)"
   ]
  },
  {
   "cell_type": "code",
   "execution_count": null,
   "metadata": {},
   "outputs": [],
   "source": [
    "varName=\"label\"\n",
    "\n",
    "renameVarName=T\n",
    "if(renameVarName){\n",
    "    varLabel <- gsub(\"_|-\", \" \", varName) %>% tools::toTitleCase(.)\n",
    "}else{\n",
    "    varLabel <- varName\n",
    "}\n",
    "varLabel"
   ]
  },
  {
   "cell_type": "code",
   "execution_count": null,
   "metadata": {},
   "outputs": [],
   "source": [
    "options(repr.plot.width=15, repr.plot.height=7)\n",
    "i=1\n",
    "cat(donors[[i]])\n",
    "varName=\"label\"\n",
    "\n",
    "renameVarName=TRUE\n",
    "if(renameVarName){\n",
    "    varLabel <- gsub(\"_|-\", \" \", varName) %>% tools::toTitleCase(.)\n",
    "}else{\n",
    "    varLabel <- varName\n",
    "}\n",
    "\n",
    "plots <- lapply(genes, function(x){\n",
    "     plotExpression(subset(sce, ,donor == donors[[i]]), \n",
    "               features=x, \n",
    "               x=varName, colour_by=varName, xlab = varLabel, exprs_values = \"logcounts\") + ggtheme_vx\n",
    "})\n",
    "ggpubr::ggarrange(plotlist = plots, common.legend = T, ncol=2, legend = \"right\")\n",
    "pdf(file = paste0(outDir, set, \"_Part6_plotExpression_\", varName, \"_\", donors[[i]], \".pdf\"), width = 15, height = 50)\n",
    "ggpubr::ggarrange(plotlist = plots, common.legend = T, ncol=2, legend = \"right\")\n",
    "dev.off()\n",
    "cat(\"The PDF file is saved as: \\n\", paste0(set, \"_Part6_plotExpression_\", varName, \"_\", donors[[i]], \".pdf\"))"
   ]
  },
  {
   "cell_type": "code",
   "execution_count": null,
   "metadata": {},
   "outputs": [],
   "source": [
    "colData(sce)$donor_Atlas_CTG_merged <- paste(colData(sce)$donor, colData(sce)$Atlas_CTG_merged, sep = \"_\")\n",
    "colData(sce)$Atlas_CTG_merged_donor <- paste(colData(sce)$Atlas_CTG_merged, colData(sce)$donor, sep = \"_\")"
   ]
  },
  {
   "cell_type": "code",
   "execution_count": null,
   "metadata": {},
   "outputs": [],
   "source": [
    "colData(sce)[1:2,]"
   ]
  },
  {
   "cell_type": "markdown",
   "metadata": {},
   "source": [
    "## Gene expression for `donor_Atlas_CTG_merged`"
   ]
  },
  {
   "cell_type": "code",
   "execution_count": null,
   "metadata": {},
   "outputs": [],
   "source": [
    "colData(sce)[1:2, ]"
   ]
  },
  {
   "cell_type": "code",
   "execution_count": null,
   "metadata": {},
   "outputs": [],
   "source": [
    "table(sce$orig.ident)"
   ]
  },
  {
   "cell_type": "code",
   "execution_count": null,
   "metadata": {},
   "outputs": [],
   "source": [
    "table(sce$Atlas_CTG_merged_donor)"
   ]
  },
  {
   "cell_type": "code",
   "execution_count": null,
   "metadata": {},
   "outputs": [],
   "source": [
    "sce$Atlas_CTG_merged_donors <- sce$Atlas_CTG_merged_donor\n",
    "sce$Atlas_CTG_merged_donors <- gsub(\"Epiblast\", \"1Epiblast\", sce$Atlas_CTG_merged_donors)\n",
    "sce$Atlas_CTG_merged_donors <- gsub(\"Nascent\", \"2Nascent\", sce$Atlas_CTG_merged_donors)\n",
    "sce$Atlas_CTG_merged_donors <- gsub(\"Endoderm\", \"3Endoderm\", sce$Atlas_CTG_merged_donors)"
   ]
  },
  {
   "cell_type": "code",
   "execution_count": null,
   "metadata": {},
   "outputs": [],
   "source": [
    "options(repr.plot.width=15, repr.plot.height=8)\n",
    "varName=\"orig.ident\"\n",
    "\n",
    "renameVarName=TRUE\n",
    "if(renameVarName){\n",
    "    varLabel <- gsub(\"_|-\", \" \", varName) %>% tools::toTitleCase(.)\n",
    "}else{\n",
    "    varLabel <- varName\n",
    "}\n",
    "\n",
    "plots <- lapply(genes, function(x){\n",
    "     plotExpression(sce, \n",
    "               features=x, \n",
    "               x=varName, colour_by=varName, xlab = \"\", exprs_values = \"logcounts\") + ggtheme_vx\n",
    "})\n",
    "ggpubr::ggarrange(plotlist = plots, common.legend = T, ncol=2, legend = \"right\")\n",
    "pdf(file = paste0(outDir, set, \"_Part6_plotExpression_\", varName, \".pdf\"), width = 15, height = 8)\n",
    "ggpubr::ggarrange(plotlist = plots, common.legend = T, ncol=2, legend = \"right\")\n",
    "dev.off()\n",
    "cat(\"The PDF file is saved as: \\n\", paste0(set, \"_Part6_plotExpression_\", varName, \".pdf\"))"
   ]
  },
  {
   "cell_type": "code",
   "execution_count": null,
   "metadata": {},
   "outputs": [],
   "source": [
    "gene_pub <- c(\"POU5F1\", \"NANOG\", \"SOX2\", \"CD24\",\n",
    "             \"MIXL1\", \"TBXT\", \"LHX1\", \"CER1\",\n",
    "             \"DKK1\", \"DKK4\", \"LEFTY1\", \"LEFTY2\",\n",
    "             \"FOXA2\", \"SOX17\", \"GSC\", \"GATA6\")\n",
    "gene_pub"
   ]
  },
  {
   "cell_type": "code",
   "execution_count": null,
   "metadata": {},
   "outputs": [],
   "source": [
    "options(repr.plot.width=24, repr.plot.height=8)\n",
    "varName=\"orig.ident\"\n",
    "\n",
    "renameVarName=TRUE\n",
    "if(renameVarName){\n",
    "    varLabel <- gsub(\"_|-\", \" \", varName) %>% tools::toTitleCase(.)\n",
    "}else{\n",
    "    varLabel <- varName\n",
    "}\n",
    "\n",
    "plots <- lapply(gene_pub, function(x){\n",
    "     plotExpression(sce, \n",
    "               features=x, \n",
    "               x=varName, colour_by=varName, xlab = \"\", exprs_values = \"logcounts\") + ggtheme_vx\n",
    "})\n",
    "ggpubr::ggarrange(plotlist = plots, common.legend = T, ncol=4, legend = \"right\")\n",
    "pdf(file = paste0(outDir, set, \"_Part6_plotExpression_\", varName, \"_pub.pdf\"), width = 24, height = 8)\n",
    "ggpubr::ggarrange(plotlist = plots, common.legend = T, ncol=4, legend = \"right\")\n",
    "dev.off()\n",
    "cat(\"The PDF file is saved as: \\n\", paste0(outDir, set, \"_Part6_plotExpression_\", varName, \"_pub.pdf\"))"
   ]
  },
  {
   "cell_type": "code",
   "execution_count": null,
   "metadata": {},
   "outputs": [],
   "source": [
    "options(repr.plot.width=15, repr.plot.height=8)\n",
    "varName=\"Atlas_CTG_merged_donors\"\n",
    "\n",
    "renameVarName=TRUE\n",
    "if(renameVarName){\n",
    "    varLabel <- gsub(\"_|-\", \" \", varName) %>% tools::toTitleCase(.)\n",
    "}else{\n",
    "    varLabel <- varName\n",
    "}\n",
    "\n",
    "plots <- lapply(genes, function(x){\n",
    "     plotExpression(sce, \n",
    "               features=x, \n",
    "               x=varName, colour_by=varName, xlab = \"\", exprs_values = \"logcounts\") + ggtheme_vx\n",
    "})\n",
    "ggpubr::ggarrange(plotlist = plots, common.legend = T, ncol=2, legend = \"right\")\n",
    "pdf(file = paste0(outDir, set, \"_Part6_plotExpression_\", varName, \".pdf\"), width = 15, height = 8)\n",
    "ggpubr::ggarrange(plotlist = plots, common.legend = T, ncol=2, legend = \"right\")\n",
    "dev.off()\n",
    "cat(\"The PDF file is saved as: \\n\", paste0(set, \"_Part6_plotExpression_\", varName, \".pdf\"))"
   ]
  },
  {
   "cell_type": "code",
   "execution_count": null,
   "metadata": {},
   "outputs": [],
   "source": [
    "options(repr.plot.width=15, repr.plot.height=8)\n",
    "varName=\"Atlas_CTG_merged_donor\"\n",
    "\n",
    "renameVarName=TRUE\n",
    "if(renameVarName){\n",
    "    varLabel <- gsub(\"_|-\", \" \", varName) %>% tools::toTitleCase(.)\n",
    "}else{\n",
    "    varLabel <- varName\n",
    "}\n",
    "\n",
    "plots <- lapply(genes, function(x){\n",
    "     plotExpression(sce, \n",
    "               features=x, \n",
    "               x=varName, colour_by=varName, xlab = \"\", exprs_values = \"logcounts\") + ggtheme_vx\n",
    "})\n",
    "ggpubr::ggarrange(plotlist = plots, common.legend = T, ncol=2, legend = \"right\")\n",
    "pdf(file = paste0(outDir, set, \"_Part6_plotExpression_\", varName, \".pdf\"), width = 15, height = 8)\n",
    "ggpubr::ggarrange(plotlist = plots, common.legend = T, ncol=2, legend = \"right\")\n",
    "dev.off()\n",
    "cat(\"The PDF file is saved as: \\n\", paste0(set, \"_Part6_plotExpression_\", varName, \".pdf\"))"
   ]
  },
  {
   "cell_type": "markdown",
   "metadata": {},
   "source": [
    "## `Gene expression - UMAP` for sample:"
   ]
  },
  {
   "cell_type": "code",
   "execution_count": null,
   "metadata": {},
   "outputs": [],
   "source": [
    "options(repr.plot.width=25, repr.plot.height=10)\n",
    "i=2\n",
    "cat(donors[[i]])\n",
    "options(repr.plot.width=25, repr.plot.height=10)\n",
    "suppressMessages(suppressWarnings({\n",
    "plots <- lapply(genes, function(x){\n",
    "    dittoDimPlot(subset(sce, ,donor == donors[[i]]), x, reduction.use = \"UMAP\", split.by = NULL, main = paste0(x, \" expression in \", donors[[i]]), size = 2) + ggtheme_hx+scale_color_gradient(name = x, low=\"grey\", high=\"red\")\n",
    "})}))\n",
    "\n",
    "ggpubr::ggarrange(plotlist = plots, common.legend = F, ncol=3, legend = \"right\")\n",
    "\n",
    "pdf(file = paste0(outDir, set, \"_Part6_coex_Ploting_genes_UMAP_\", donors[[i]], \".pdf\"), width = 25, height = 10)\n",
    "ggpubr::ggarrange(plotlist = plots, common.legend = F, ncol=3, legend = \"right\")\n",
    "dev.off()"
   ]
  },
  {
   "cell_type": "code",
   "execution_count": null,
   "metadata": {},
   "outputs": [],
   "source": [
    "sce"
   ]
  },
  {
   "cell_type": "markdown",
   "metadata": {},
   "source": [
    "## `Gene expression profile` for `Atlas_CTG_merged` for sample 1"
   ]
  },
  {
   "cell_type": "code",
   "execution_count": null,
   "metadata": {},
   "outputs": [],
   "source": [
    "options(repr.plot.width=15, repr.plot.height=7)\n",
    "i=1\n",
    "cat(donors[[i]])\n",
    "varName=\"Atlas_CTG_merged\"\n",
    "\n",
    "renameVarName=T\n",
    "if(renameVarName){\n",
    "    varLabel <- gsub(\"_|-\", \" \", varName) %>% tools::toTitleCase(.)\n",
    "}else{\n",
    "    varLabel <- varName\n",
    "}\n",
    "\n",
    "plots <- lapply(genes, function(x){\n",
    "     plotExpression(subset(sce, ,donor == donors[[i]]), \n",
    "               features=x, \n",
    "               x=varName, colour_by=varName, xlab = varLabel, exprs_values = \"counts\") + ggtheme_vx\n",
    "})\n",
    "ggpubr::ggarrange(plotlist = plots, common.legend = T, ncol=2, legend = \"right\")\n",
    "pdf(file = paste0(outDir, set, \"_Part6_plotExpression_\", varName, \"_\", donors[[i]], \".pdf\"), width = 15, height = 50)\n",
    "ggpubr::ggarrange(plotlist = plots, common.legend = T, ncol=2, legend = \"right\")\n",
    "dev.off()\n",
    "cat(\"The PDF file is saved as: \\n\", paste0(set, \"_Part6_plotExpression_\", varName, \"_\", donors[[i]], \".pdf\"))"
   ]
  },
  {
   "cell_type": "markdown",
   "metadata": {},
   "source": [
    "## `Gene expression profile` for `Atlas_CTG_merged_sub` for sample 1"
   ]
  },
  {
   "cell_type": "code",
   "execution_count": null,
   "metadata": {},
   "outputs": [],
   "source": [
    "options(repr.plot.width=15, repr.plot.height=7)\n",
    "i=1\n",
    "cat(donors[[i]])\n",
    "varName=\"Atlas_CTG_merged_sub\"\n",
    "\n",
    "renameVarName=T\n",
    "if(renameVarName){\n",
    "    varLabel <- gsub(\"_|-\", \" \", varName) %>% tools::toTitleCase(.)\n",
    "}else{\n",
    "    varLabel <- varName\n",
    "}\n",
    "\n",
    "plots <- lapply(genes, function(x){\n",
    "     plotExpression(subset(sce, ,donor == donors[[i]]), \n",
    "               features=x, \n",
    "               x=varName, colour_by=varName, xlab = varLabel, exprs_values = \"counts\") + ggtheme_vx\n",
    "})\n",
    "ggpubr::ggarrange(plotlist = plots, common.legend = T, ncol=2, legend = \"right\")\n",
    "pdf(file = paste0(outDir, set, \"_Part6_plotExpression_\", varName, \"_\", donors[[i]], \".pdf\"), width = 15, height = 50)\n",
    "ggpubr::ggarrange(plotlist = plots, common.legend = T, ncol=2, legend = \"right\")\n",
    "dev.off()\n",
    "cat(\"The PDF file is saved as: \\n\", paste0(set, \"_Part6_plotExpression_\", varName, \"_\", donors[[i]], \".pdf\"))"
   ]
  },
  {
   "cell_type": "code",
   "execution_count": null,
   "metadata": {},
   "outputs": [],
   "source": [
    "table(colData(sce)$Atlas_CTG_merged)"
   ]
  },
  {
   "cell_type": "code",
   "execution_count": null,
   "metadata": {},
   "outputs": [],
   "source": [
    "table(colData(sce)$Atlas_CTG_merged_sub)"
   ]
  },
  {
   "cell_type": "markdown",
   "metadata": {},
   "source": [
    "## Show the `UMAP` and `TSNE` for the new clusters"
   ]
  },
  {
   "cell_type": "code",
   "execution_count": null,
   "metadata": {},
   "outputs": [],
   "source": [
    "types <- c(\"Atlas_CTG_merged\", \"Atlas_CTG_merged_sub\", \"donor\", \"label\", \"day\", \"orig.ident\")\n",
    "cat(\"Let's show the Figures for the following columns:\\n \")\n",
    "print(types)"
   ]
  },
  {
   "cell_type": "code",
   "execution_count": null,
   "metadata": {},
   "outputs": [],
   "source": [
    "options(repr.plot.width=10, repr.plot.height=7)\n",
    "plots <- lapply(types, function(x){\n",
    "    dittoDimPlot(sce, x, \n",
    "             reduction.use = \"PCA\", \n",
    "             legend.title = x, main = x, opacity = 0.5, order = \"decreasing\",) + ggtheme_hx\n",
    "    \n",
    "})\n",
    "plots\n",
    "pdf(file = paste0(outDir, set, \"_Part6_PCA_types_merged_or_op5.pdf\"), width = 10, height = 7)\n",
    "plots\n",
    "dev.off()"
   ]
  },
  {
   "cell_type": "code",
   "execution_count": null,
   "metadata": {},
   "outputs": [],
   "source": [
    "options(repr.plot.width=10, repr.plot.height=7)\n",
    "plots <- lapply(types, function(x){\n",
    "    dittoDimPlot(sce, x, \n",
    "             reduction.use = \"PCA\", \n",
    "             legend.title = x, main = x, order = \"decreasing\") + ggtheme_hx\n",
    "    \n",
    "})\n",
    "plots\n",
    "pdf(file = paste0(outDir, set, \"_Part6_PCA_types_merged_or.pdf\"), width = 10, height = 7)\n",
    "plots\n",
    "dev.off()"
   ]
  },
  {
   "cell_type": "code",
   "execution_count": null,
   "metadata": {},
   "outputs": [],
   "source": [
    "options(repr.plot.width=10, repr.plot.height=7)\n",
    "plots <- lapply(types, function(x){\n",
    "    dittoDimPlot(sce, x, \n",
    "             reduction.use = \"UMAP\", \n",
    "             legend.title = x, main = x, opacity = 0.5, order = \"decreasing\") + ggtheme_hx\n",
    "    \n",
    "})\n",
    "plots\n",
    "pdf(file = paste0(outDir, set, \"_Part6_UMAP_types_merged_or_op5.pdf\"), width = 10, height = 7)\n",
    "plots\n",
    "dev.off()"
   ]
  },
  {
   "cell_type": "code",
   "execution_count": null,
   "metadata": {},
   "outputs": [],
   "source": [
    "options(repr.plot.width=10, repr.plot.height=7)\n",
    "plots <- lapply(types, function(x){\n",
    "    dittoDimPlot(sce, x, \n",
    "             reduction.use = \"UMAP\", \n",
    "             legend.title = x, main = x, order = \"decreasing\") + ggtheme_hx\n",
    "    \n",
    "})\n",
    "plots\n",
    "pdf(file = paste0(outDir, set, \"_Part6_UMAP_types_merged_or.pdf\"), width = 10, height = 7)\n",
    "plots\n",
    "dev.off()"
   ]
  },
  {
   "cell_type": "code",
   "execution_count": null,
   "metadata": {},
   "outputs": [],
   "source": [
    "options(repr.plot.width=10, repr.plot.height=7)\n",
    "plots <- lapply(types, function(x){\n",
    "    dittoDimPlot(sce, x, \n",
    "             reduction.use = \"UMAP\", \n",
    "             legend.title = x, main = x, do.label = TRUE, labels.size = 5, opacity = 0.5, order = \"decreasing\") + ggtheme_hx\n",
    "    \n",
    "})\n",
    "plots\n",
    "pdf(file = paste0(outDir, set, \"_Part6_UMAP_types_merged_label_op5.pdf\"), width = 10, height = 7)\n",
    "plots\n",
    "dev.off()"
   ]
  },
  {
   "cell_type": "code",
   "execution_count": null,
   "metadata": {},
   "outputs": [],
   "source": [
    "options(repr.plot.width=10, repr.plot.height=7)\n",
    "plots <- lapply(types, function(x){\n",
    "    dittoDimPlot(sce, x, \n",
    "             reduction.use = \"TSNE\", \n",
    "             legend.title = x, main = x, opacity = 0.5, order = \"decreasing\") + ggtheme_hx\n",
    "    \n",
    "})\n",
    "plots\n",
    "pdf(file = paste0(outDir, set, \"_Part6_TSNE_types_merged_or_op5.pdf\"), width = 10, height = 7)\n",
    "plots\n",
    "dev.off()"
   ]
  },
  {
   "cell_type": "code",
   "execution_count": null,
   "metadata": {},
   "outputs": [],
   "source": [
    "options(repr.plot.width=10, repr.plot.height=7)\n",
    "plots <- lapply(types, function(x){\n",
    "    dittoDimPlot(sce, x, \n",
    "             reduction.use = \"TSNE\", \n",
    "             legend.title = x, main = x, order = \"decreasing\") + ggtheme_hx\n",
    "    \n",
    "})\n",
    "plots\n",
    "pdf(file = paste0(outDir, set, \"_Part6_TSNE_types_merged_or.pdf\"), width = 10, height = 7)\n",
    "plots\n",
    "dev.off()"
   ]
  },
  {
   "cell_type": "code",
   "execution_count": null,
   "metadata": {},
   "outputs": [],
   "source": [
    "options(repr.plot.width=10, repr.plot.height=7)\n",
    "plots <- lapply(types, function(x){\n",
    "    dittoDimPlot(sce, x, \n",
    "             reduction.use = \"TSNE\", \n",
    "             legend.title = x, main = x, do.label = TRUE, labels.size = 5, opacity = 0.5, order = \"decreasing\") + ggtheme_hx\n",
    "    \n",
    "})\n",
    "plots\n",
    "pdf(file = paste0(outDir, set, \"_Part6_TSNE_types_merged_label_or_op5.pdf\"), width = 10, height = 7)\n",
    "plots\n",
    "dev.off()"
   ]
  },
  {
   "cell_type": "code",
   "execution_count": null,
   "metadata": {},
   "outputs": [],
   "source": [
    "options(repr.plot.width=10, repr.plot.height=7)\n",
    "plots <- lapply(types, function(x){\n",
    "    dittoDimPlot(sce, x, \n",
    "             reduction.use = \"TSNE\", \n",
    "             legend.title = x, main = x, do.label = TRUE, labels.size = 5, order = \"decreasing\") + ggtheme_hx\n",
    "    \n",
    "})\n",
    "plots\n",
    "pdf(file = paste0(outDir, set, \"_Part6_TSNE_types_merged_label_or.pdf\"), width = 10, height = 7)\n",
    "plots\n",
    "dev.off()"
   ]
  },
  {
   "cell_type": "code",
   "execution_count": null,
   "metadata": {},
   "outputs": [],
   "source": [
    "options(repr.plot.width=19, repr.plot.height=9)\n",
    "plots <- lapply(types, function(x){\n",
    "    dittoDimPlot(sce, x, \n",
    "             reduction.use = \"UMAP\", split.by = \"donor\", \n",
    "             legend.title = x, main = x) + ggtheme_hx\n",
    "    \n",
    "})\n",
    "plots\n",
    "pdf(file = paste0(outDir, set, \"_Part6_UMAP_types_merged_split.pdf\"), width = 18, height = 9)\n",
    "plots\n",
    "dev.off()"
   ]
  },
  {
   "cell_type": "code",
   "execution_count": null,
   "metadata": {},
   "outputs": [],
   "source": [
    "options(repr.plot.width=19, repr.plot.height=9)\n",
    "plots <- lapply(types, function(x){\n",
    "    dittoDimPlot(sce, x, \n",
    "             reduction.use = \"TSNE\", split.by = \"donor\", \n",
    "             legend.title = x, main = x) + ggtheme_hx\n",
    "    \n",
    "})\n",
    "plots\n",
    "pdf(file = paste0(outDir, set, \"_Part6_TSNE_types_merged_split.pdf\"), width = 18, height = 9)\n",
    "plots\n",
    "dev.off()"
   ]
  },
  {
   "cell_type": "code",
   "execution_count": null,
   "metadata": {},
   "outputs": [],
   "source": [
    "options(repr.plot.width=19, repr.plot.height=9)\n",
    "plots <- lapply(types, function(x){\n",
    "    dittoDimPlot(sce, x, \n",
    "             reduction.use = \"TSNE\", split.by = \"donor\", \n",
    "             legend.title = x, main = x, do.label = TRUE, labels.size = 5) + ggtheme_hx\n",
    "    \n",
    "})\n",
    "plots\n",
    "pdf(file = paste0(outDir, set, \"_Part6_TSNE_types_merged_split_label.pdf\"), width = 18, height = 9)\n",
    "plots\n",
    "dev.off()"
   ]
  },
  {
   "cell_type": "code",
   "execution_count": null,
   "metadata": {},
   "outputs": [],
   "source": [
    "options(repr.plot.width=19, repr.plot.height=9)\n",
    "plots <- lapply(types, function(x){\n",
    "    dittoDimPlot(sce, x, \n",
    "             reduction.use = \"UMAP\", split.by = \"donor\", \n",
    "             legend.title = x, main = x, do.label = TRUE, labels.size = 5) + ggtheme_hx\n",
    "    \n",
    "})\n",
    "plots\n",
    "pdf(file = paste0(outDir, set, \"_Part6_UMAP_types_merged_split_label.pdf\"), width = 18, height = 9)\n",
    "plots\n",
    "dev.off()"
   ]
  },
  {
   "cell_type": "markdown",
   "metadata": {},
   "source": [
    "## Determine cell proportion of annotated cells"
   ]
  },
  {
   "cell_type": "code",
   "execution_count": null,
   "metadata": {},
   "outputs": [],
   "source": [
    "celltype_table <- table(colData(sce)$Atlas_CTG_merged, colData(sce)$orig.ident) %>%\n",
    "        as.data.frame.matrix() %>% \n",
    "        tibble::rownames_to_column(., \"type\") %>%\n",
    "        adorn_totals(c(\"col\", \"row\")) %>%\n",
    "        tibble::column_to_rownames(., \"type\")\n",
    "celltype_table"
   ]
  },
  {
   "cell_type": "code",
   "execution_count": null,
   "metadata": {},
   "outputs": [],
   "source": [
    "celltype_table <- table(colData(sce)$Atlas_CTG_merged_sub, colData(sce)$orig.ident) %>%\n",
    "        as.data.frame.matrix() %>% \n",
    "        tibble::rownames_to_column(., \"type\") %>%\n",
    "        adorn_totals(c(\"col\", \"row\")) %>%\n",
    "        tibble::column_to_rownames(., \"type\")\n",
    "celltype_table"
   ]
  },
  {
   "cell_type": "code",
   "execution_count": null,
   "metadata": {},
   "outputs": [],
   "source": [
    "options(repr.plot.width=20, repr.plot.height=7)\n",
    "suppressMessages(suppressWarnings({\n",
    "   celltype_stats <- table(colData(sce)$Atlas_CTG_merged, colData(sce)$orig.ident) %>%\n",
    "        as.data.frame() \n",
    "    colnames(celltype_stats) <- c(\"CellType\", \"Sample\", \"CellNumber\")\n",
    "    a <- ggplot(celltype_stats, aes(x = CellNumber, y = Sample)) +\n",
    "              geom_col(aes(fill = CellType), width = 0.7) +\n",
    "              theme_bw() + ggtheme_hx +\n",
    "              xlab(\"Cell number\") + ylab(\"\")\n",
    "\n",
    "    celltype_prop <-  table(colData(sce)$Atlas_CTG_merged, colData(sce)$orig.ident) %>%\n",
    "            as.data.frame.matrix() \n",
    "    celltype_prop <- as.matrix(prop.table(as.matrix(celltype_prop), 2))\n",
    "    meltdf.p <- as.data.frame(melt(celltype_prop,id=\"Cell Types\"))\n",
    "    colnames(meltdf.p) <- c(\"CellType\", \"Sample\", \"CellNumber\")\n",
    "    b <- ggplot(meltdf.p, aes(x = CellNumber, y = Sample)) +\n",
    "              geom_col(aes(fill = CellType), width = 0.7) +\n",
    "              theme_bw() + ggtheme_hx +\n",
    "              xlab(\"Cell Proportion\") + ylab(\"\")\n",
    "\n",
    "    ggpubr::ggarrange(a, b, common.legend = T, ncol=1, legend = \"right\") \n",
    "}))\n",
    "pdf(file = paste0(outDir, set, \"_Part6_cellProportion_Atlas_CTG_merged_orig.ident.pdf\"), width = 25, height = 10)\n",
    "ggpubr::ggarrange(a, b, common.legend = T, ncol=1, legend = \"right\")\n",
    "dev.off()"
   ]
  },
  {
   "cell_type": "code",
   "execution_count": null,
   "metadata": {},
   "outputs": [],
   "source": [
    "options(repr.plot.width=20, repr.plot.height=7)\n",
    "suppressMessages(suppressWarnings({\n",
    "   celltype_stats <- table(colData(sce)$Atlas_CTG_merged_sub, colData(sce)$orig.ident) %>%\n",
    "        as.data.frame() \n",
    "    colnames(celltype_stats) <- c(\"CellType\", \"Sample\", \"CellNumber\")\n",
    "    a <- ggplot(celltype_stats, aes(x = CellNumber, y = Sample)) +\n",
    "              geom_col(aes(fill = CellType), width = 0.7) +\n",
    "              theme_bw() + ggtheme_hx +\n",
    "              xlab(\"Cell number\") + ylab(\"\")\n",
    "\n",
    "    celltype_prop <-  table(colData(sce)$Atlas_CTG_merged_sub, colData(sce)$orig.ident) %>%\n",
    "            as.data.frame.matrix() \n",
    "    celltype_prop <- as.matrix(prop.table(as.matrix(celltype_prop), 2))\n",
    "    meltdf.p <- as.data.frame(melt(celltype_prop,id=\"Cell Types\"))\n",
    "    colnames(meltdf.p) <- c(\"CellType\", \"Sample\", \"CellNumber\")\n",
    "    b <- ggplot(meltdf.p, aes(x = CellNumber, y = Sample)) +\n",
    "              geom_col(aes(fill = CellType), width = 0.7) +\n",
    "              theme_bw() + ggtheme_hx +\n",
    "              xlab(\"Cell Proportion\") + ylab(\"\")\n",
    "\n",
    "    ggpubr::ggarrange(a, b, common.legend = T, ncol=1, legend = \"right\") \n",
    "}))\n",
    "pdf(file = paste0(outDir, set, \"_Part6_cellProportion_Atlas_CTG_merged_sub_orig.ident.pdf\"), width = 25, height = 10)\n",
    "ggpubr::ggarrange(a, b, common.legend = T, ncol=1, legend = \"right\")\n",
    "dev.off()"
   ]
  },
  {
   "cell_type": "code",
   "execution_count": null,
   "metadata": {},
   "outputs": [],
   "source": [
    "drop <- grep(\"subset|sum|detected|total|Annotation_\", colnames(colData(sce)), value = TRUE)\n",
    "drop"
   ]
  },
  {
   "cell_type": "code",
   "execution_count": null,
   "metadata": {},
   "outputs": [],
   "source": [
    "hh <- \"\"\n",
    "for (i in 1:length(drop)) {\n",
    "  hh <- paste0(hh, 'colData(sce[[1]])[[\"', drop[i], '\"]] <- NULL\\n')\n",
    "  hh <- paste0(hh, 'colData(sce[[2]])[[\"', drop[i], '\"]] <- NULL\\n')\n",
    "}\n",
    "if(TRUE){\n",
    "  cat(hh)\n",
    "}"
   ]
  },
  {
   "cell_type": "code",
   "execution_count": null,
   "metadata": {},
   "outputs": [],
   "source": [
    "if(FALSE){\n",
    "  eval(parse(text = hh))\n",
    "}"
   ]
  },
  {
   "cell_type": "code",
   "execution_count": null,
   "metadata": {},
   "outputs": [],
   "source": [
    "colData(sce)[1:2,]"
   ]
  },
  {
   "cell_type": "markdown",
   "metadata": {},
   "source": [
    "## `Co-expressed` genes"
   ]
  },
  {
   "cell_type": "code",
   "execution_count": null,
   "metadata": {},
   "outputs": [],
   "source": [
    "# levels(as.factor(colData(sce)$type))\n",
    "print(genes)"
   ]
  },
  {
   "cell_type": "code",
   "execution_count": null,
   "metadata": {},
   "outputs": [],
   "source": [
    "if(is.list(sce)){\n",
    "    hh <- \"\"\n",
    "    hh <- paste0(hh,'sce <- lapply(sce, function(x){\\n')\n",
    "    hh <- paste0(hh,'    addPerCellQC(x,\\n')\n",
    "    hh <- paste0(hh,'    subsets=list(\\n')\n",
    "    for (i in 1:length(genes[-1])) {\n",
    "      hh <- paste0(hh, '        ', gsub(\"-\", \"_\", genes[i]), '=grep(\"^', genes[i], '$\", rownames(x)),\\n')\n",
    "    }\n",
    "    hh <- paste0(hh, '        ', dplyr::last(genes), '=grep(\"^', dplyr::last(genes), '$\", rownames(x))))})\\nsce')\n",
    "    if(TRUE){\n",
    "      cat(hh)\n",
    "    }\n",
    "} else {\n",
    "    hh <- \"\"\n",
    "    hh <- paste0(hh,'sce <- addPerCellQC(sce,\\n')\n",
    "    hh <- paste0(hh,'    subsets=list(\\n')\n",
    "    for (i in 1:length(genes[-1])) {\n",
    "      hh <- paste0(hh, '        ', gsub(\"-\", \"_\", genes[i]), '=grep(\"^', genes[i], '$\", rownames(sce)),\\n')\n",
    "    }\n",
    "    hh <- paste0(hh, '        ', dplyr::last(genes), '=grep(\"^', dplyr::last(genes), '$\", rownames(sce))))\\nsce')\n",
    "    if(TRUE){\n",
    "      cat(hh)\n",
    "    }\n",
    "}"
   ]
  },
  {
   "cell_type": "code",
   "execution_count": null,
   "metadata": {},
   "outputs": [],
   "source": [
    "eval(parse(text = hh))"
   ]
  },
  {
   "cell_type": "markdown",
   "metadata": {},
   "source": [
    "## `Display the UMAP for all genes` (TRUE/FALSE)"
   ]
  },
  {
   "cell_type": "code",
   "execution_count": null,
   "metadata": {},
   "outputs": [],
   "source": [
    "print(genes)"
   ]
  },
  {
   "cell_type": "code",
   "execution_count": null,
   "metadata": {},
   "outputs": [],
   "source": [
    "subsets <- grep(\"^subsets_.*_detected\", colnames(colData(sce)), value = TRUE)\n",
    "print(subsets)"
   ]
  },
  {
   "cell_type": "code",
   "execution_count": null,
   "metadata": {},
   "outputs": [],
   "source": [
    "# lapply(genes[c(1:2)], function(x){\n",
    "#     colData(sce)[[paste0(\"subsets_\", x, \"_detected\")]] <- ifelse(colData(sce)[[paste0(\"subsets_\", x, \"_detected\")]]==1,TRUE, FALSE)\n",
    "#     table(colData(sce)[[paste0(\"subsets_\", x, \"_detected\")]])\n",
    "# })"
   ]
  },
  {
   "cell_type": "code",
   "execution_count": null,
   "metadata": {},
   "outputs": [],
   "source": [
    "options(repr.plot.width=23, repr.plot.height=7)\n",
    "suppressMessages(suppressWarnings({\n",
    "    plots <- lapply(genes, function(x){\n",
    "        colData(sce)[[paste0(\"subsets_\", x, \"_detected\")]] <- ifelse(colData(sce)[[paste0(\"subsets_\", x, \"_detected\")]]==1,TRUE, FALSE)\n",
    "        dittoDimPlot(sce, paste0(\"subsets_\", x, \"_detected\"), reduction.use = \"UMAP\", split.by = NULL, main = x, size = 2, opacity = 0.5) + ggtheme_hx+scale_color_manual(name = x, values=c(\"grey\", \"red\"))\n",
    "})}))\n",
    "ggpubr::ggarrange(plotlist = plots, common.legend = F, ncol=3, legend = \"right\")\n",
    "\n",
    "pdf(file = paste0(outDir, set, \"_Part6_coex_Ploting_genes_detected.pdf\"), width = 23, height = 7)\n",
    "ggpubr::ggarrange(plotlist = plots, common.legend = F, ncol=3, legend = \"right\")\n",
    "dev.off()"
   ]
  },
  {
   "cell_type": "markdown",
   "metadata": {},
   "source": [
    "## `Save Annotated sce`"
   ]
  },
  {
   "cell_type": "code",
   "execution_count": null,
   "metadata": {},
   "outputs": [],
   "source": [
    "sce"
   ]
  },
  {
   "cell_type": "code",
   "execution_count": null,
   "metadata": {},
   "outputs": [],
   "source": [
    "# re-writess the previously saved sce object.\n",
    "saveRDS(sce, file = paste0(outDir, set, \"_sce_merged_anno2.RDS\"))\n",
    "cat(\"File saved at: \\n\", paste0(outDir, set, \"_sce_merged_anno2.RDS\"))\n",
    "cat(\"\\nTime: \\n\")\n",
    "print(Sys.time())"
   ]
  },
  {
   "cell_type": "code",
   "execution_count": null,
   "metadata": {},
   "outputs": [],
   "source": [
    "sce <- readRDS(paste0(outDir, set, \"_sce_merged_anno2.RDS\"))"
   ]
  },
  {
   "cell_type": "markdown",
   "metadata": {},
   "source": [
    "## sessionInfo()"
   ]
  },
  {
   "cell_type": "code",
   "execution_count": null,
   "metadata": {},
   "outputs": [],
   "source": [
    "sessionInfo()"
   ]
  },
  {
   "cell_type": "markdown",
   "metadata": {},
   "source": [
    " ## `** End Part 6 **`"
   ]
  },
  {
   "cell_type": "code",
   "execution_count": null,
   "metadata": {},
   "outputs": [],
   "source": []
  }
 ],
 "metadata": {
  "kernelspec": {
   "display_name": "R 4.1.2",
   "language": "R",
   "name": "ir412"
  },
  "language_info": {
   "codemirror_mode": "r",
   "file_extension": ".r",
   "mimetype": "text/x-r-source",
   "name": "R",
   "pygments_lexer": "r",
   "version": "4.1.2"
  }
 },
 "nbformat": 4,
 "nbformat_minor": 4
}
