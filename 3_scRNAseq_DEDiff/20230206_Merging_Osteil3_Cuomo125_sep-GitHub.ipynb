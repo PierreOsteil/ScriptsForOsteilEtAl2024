{
 "cells": [
  {
   "cell_type": "markdown",
   "metadata": {},
   "source": [
    "# Merging `Osteil` and `Cuomo` data"
   ]
  },
  {
   "cell_type": "code",
   "execution_count": null,
   "metadata": {},
   "outputs": [],
   "source": [
    "Sys.Date()"
   ]
  },
  {
   "cell_type": "code",
   "execution_count": null,
   "metadata": {},
   "outputs": [],
   "source": [
    "knitr::opts_chunk$set(echo = TRUE, collapse = FALSE)"
   ]
  },
  {
   "cell_type": "markdown",
   "metadata": {},
   "source": [
    "## Project description:\n",
    "\n",
    "Osteil, and Cuomo data were analysed seperately. The name of the files to be used:\n",
    "\n",
    "    20210127_Cuomo_SC3_filtered.ipynb\n",
    "    20210324_Osteil4_SC3_filtered.ipynb\n",
    "   "
   ]
  },
  {
   "cell_type": "code",
   "execution_count": null,
   "metadata": {},
   "outputs": [],
   "source": [
    "suppressPackageStartupMessages({\n",
    "    library(scMerge)\n",
    "    library(SingleCellExperiment)\n",
    "    library(scater)\n",
    "    library(scran)\n",
    "    library(dplyr)\n",
    "    library(ggpubr)\n",
    "    library(forcats)\n",
    "    library(tidyr)\n",
    "    library(data.table)\n",
    "    library(Seurat)\n",
    "    library(princurve)\n",
    "    library(slingshot)\n",
    "    library(UpSetR)\n",
    "    library(ComplexHeatmap)\n",
    "    library(biomaRt)\n",
    "    library(BiocParallel)\n",
    "    library(edgeR)\n",
    "    library(SC3)\n",
    "    library(scDblFinder)\n",
    "    library(here)\n",
    "    library(dittoSeq)\n",
    "})"
   ]
  },
  {
   "cell_type": "code",
   "execution_count": null,
   "metadata": {},
   "outputs": [],
   "source": [
    "baseDir <- here(\"20201211_scRNASeq_hiPSc/\")\n",
    "inputDir <- here(\"20201211_scRNASeq_hiPSc/input/\")\n",
    "outDir <- here(\"20201211_scRNASeq_hiPSc/output/\")\n",
    "cat(paste0(\"baseDir = \", baseDir))\n",
    "cores = BiocParallel::MulticoreParam(workers = 32, progressbar = TRUE)\n",
    "set1 <- \"20210208_Cuomo\"\n",
    "set2 <- \"20210324_Pierre\"\n",
    "set <- \"20230223_Cuomo_Pierre\""
   ]
  },
  {
   "cell_type": "markdown",
   "metadata": {},
   "source": [
    "## ggplot themes\n",
    "\n",
    "the parameters for ggplot is set here."
   ]
  },
  {
   "cell_type": "code",
   "execution_count": null,
   "metadata": {},
   "outputs": [],
   "source": [
    "ggtheme_hx <- list(theme(axis.text.x=element_text(angle = 0, vjust = 0.5, \n",
    "                                                  size = 12, face=\"bold\"),\n",
    "          axis.text.y=element_text(angle = 0, vjust = 0.5, \n",
    "                                   size = 12, face=\"bold\"),\n",
    "          axis.title=element_text(size=14,face=\"bold\"),\n",
    "          legend.title = element_text(colour=\"black\", \n",
    "                                      size=12, face=\"bold\"),\n",
    "          legend.text = element_text(colour=\"black\", \n",
    "                                     size=12, face=\"bold\"),\n",
    "          strip.text = element_text(size = 20)))\n",
    "ggtheme_vx <- list(theme(axis.text.x=element_text(angle = 90, vjust = 0.5, \n",
    "                                                  size = 12, face=\"bold\"),\n",
    "          axis.text.y=element_text(angle = 0, vjust = 0.5, \n",
    "                                   size = 12, face=\"bold\"),\n",
    "          axis.title=element_text(size=14,face=\"bold\"),\n",
    "          legend.title = element_text(colour=\"black\", \n",
    "                                      size=12, face=\"bold\"),\n",
    "          legend.text = element_text(colour=\"black\", \n",
    "                                     size=12, face=\"bold\"),\n",
    "          strip.text = element_text(size = 20)))"
   ]
  },
  {
   "cell_type": "markdown",
   "metadata": {},
   "source": [
    "## Loading the data"
   ]
  },
  {
   "cell_type": "code",
   "execution_count": null,
   "metadata": {},
   "outputs": [],
   "source": [
    "# loading Cuomo data \n",
    "sce1 <- readRDS(paste0(outDir, set1, \"_sce.combined_hiSC_dbl_RD_SC3_slingshot.RDS\"))\n",
    "sce1"
   ]
  },
  {
   "cell_type": "code",
   "execution_count": null,
   "metadata": {},
   "outputs": [],
   "source": [
    "# Loading Osteil data\n",
    "sce2 <- readRDS(paste0(outDir, set2, \"_sce.combined_hiSC_dbl_RD.RDS\"))\n",
    "sce2"
   ]
  },
  {
   "cell_type": "code",
   "execution_count": null,
   "metadata": {},
   "outputs": [],
   "source": [
    "genes.sce1 <- assay(sce1, \"counts\") %>% \n",
    "    rownames()\n",
    "genes.sce2 <- assay(sce2, \"counts\") %>% \n",
    "    rownames()"
   ]
  },
  {
   "cell_type": "code",
   "execution_count": null,
   "metadata": {},
   "outputs": [],
   "source": [
    "geneIdx <- intersect(genes.sce1, genes.sce2)"
   ]
  },
  {
   "cell_type": "code",
   "execution_count": null,
   "metadata": {},
   "outputs": [],
   "source": [
    "length(genes.sce1)\n",
    "length(genes.sce2)\n",
    "length(geneIdx)"
   ]
  },
  {
   "cell_type": "code",
   "execution_count": null,
   "metadata": {},
   "outputs": [],
   "source": [
    "sce <- list(sce1, sce2)\n",
    "sce <- lapply(sce, function(x) {\n",
    "    x[geneIdx,]\n",
    "})\n",
    "sce"
   ]
  },
  {
   "cell_type": "code",
   "execution_count": null,
   "metadata": {},
   "outputs": [],
   "source": [
    "assay(sce[[1]], \"counts\") %>% head()\n",
    "assay(sce[[1]], \"logcounts\") %>% head()"
   ]
  },
  {
   "cell_type": "code",
   "execution_count": null,
   "metadata": {},
   "outputs": [],
   "source": [
    "assay(sce[[2]], \"counts\") %>% head()\n",
    "assay(sce[[2]], \"logcounts\") %>% head()"
   ]
  },
  {
   "cell_type": "code",
   "execution_count": null,
   "metadata": {},
   "outputs": [],
   "source": [
    "days <- lapply(sce, function(x) {\n",
    "    colData(x)$day %>% \n",
    "    levels()\n",
    "})"
   ]
  },
  {
   "cell_type": "code",
   "execution_count": null,
   "metadata": {},
   "outputs": [],
   "source": [
    "days\n",
    "days <- union(days[[1]], days[[2]])\n",
    "days"
   ]
  },
  {
   "cell_type": "code",
   "execution_count": null,
   "metadata": {},
   "outputs": [],
   "source": [
    "colData(sce[[1]]) %>% head()"
   ]
  },
  {
   "cell_type": "code",
   "execution_count": null,
   "metadata": {},
   "outputs": [],
   "source": [
    "sce.combined = scMerge::sce_cbind(sce_list = sce,\n",
    "                                 method = \"union\",\n",
    "                                 colData_names = c(\"orig.ident\", \"day\", \"donor\"),\n",
    "                                 batch_names = c(\"Cuomo\", \"Osteil\"))"
   ]
  },
  {
   "cell_type": "code",
   "execution_count": null,
   "metadata": {},
   "outputs": [],
   "source": [
    "sce.combined"
   ]
  },
  {
   "cell_type": "code",
   "execution_count": null,
   "metadata": {},
   "outputs": [],
   "source": [
    "colData(sce.combined)$exp <- paste0(colData(sce.combined)$batch, \"_\", colData(sce.combined)$day)\n",
    "colData(sce.combined)$batch <- NULL\n",
    "colData(sce.combined)$exp <- as.factor(colData(sce.combined)$exp)"
   ]
  },
  {
   "cell_type": "code",
   "execution_count": null,
   "metadata": {},
   "outputs": [],
   "source": [
    "sce.combined"
   ]
  },
  {
   "cell_type": "code",
   "execution_count": null,
   "metadata": {},
   "outputs": [],
   "source": [
    "exp <- colData(sce.combined)$exp %>% \n",
    "    levels()\n",
    "exp"
   ]
  },
  {
   "cell_type": "code",
   "execution_count": null,
   "metadata": {},
   "outputs": [],
   "source": [
    "sce.list <- lapply(exp, function(x) {\n",
    "  y <- subset(sce.combined, ,exp == x)\n",
    "    return(y)\n",
    "})\n",
    "names(sce.list) <- exp"
   ]
  },
  {
   "cell_type": "code",
   "execution_count": null,
   "metadata": {},
   "outputs": [],
   "source": [
    "sce.list"
   ]
  },
  {
   "cell_type": "code",
   "execution_count": null,
   "metadata": {},
   "outputs": [],
   "source": [
    "# convert to matrix\n",
    "sce.list <- lapply(sce.list, function(x) {\n",
    "    assay(x) <- as.matrix(assay(x))\n",
    "    logcounts(x) <- as.matrix(logcounts(x))\n",
    "    return(x)\n",
    "})"
   ]
  },
  {
   "cell_type": "markdown",
   "metadata": {},
   "source": [
    "## Perform scMerge"
   ]
  },
  {
   "cell_type": "code",
   "execution_count": null,
   "metadata": {},
   "outputs": [],
   "source": [
    "# get the list of the hgv for each sce seperately\n",
    "hvg.list <- lapply(sce.list, function(x) {\n",
    "  dec <- modelGeneVar(x)\n",
    "  hvg <- getTopHVGs(dec, prop = 0.2)\n",
    "})\n",
    "sapply(hvg.list, length)"
   ]
  },
  {
   "cell_type": "code",
   "execution_count": null,
   "metadata": {},
   "outputs": [],
   "source": [
    "hvg.day0 <- Reduce(intersect, hvg.list[c(1,5)])\n",
    "hvg.day1 <- Reduce(intersect, hvg.list[c(2,6)])\n",
    "hvg.day234 <- Reduce(intersect, hvg.list[c(3,4,7)])"
   ]
  },
  {
   "cell_type": "code",
   "execution_count": null,
   "metadata": {},
   "outputs": [],
   "source": [
    "length(hvg.day0)\n",
    "length(hvg.day1)\n",
    "length(hvg.day234)"
   ]
  },
  {
   "cell_type": "code",
   "execution_count": null,
   "metadata": {},
   "outputs": [],
   "source": [
    "colData(sce.list[[1]])"
   ]
  },
  {
   "cell_type": "code",
   "execution_count": null,
   "metadata": {},
   "outputs": [],
   "source": [
    "sce.combine.day0 = scMerge::sce_cbind(sce_list = sce.list[c(1,5)],\n",
    "                                 method = \"union\",\n",
    "                                 colData_names = colnames(colData(sce.list[[1]])),\n",
    "                                 batch_names = names(sce.list[c(1,5)]))\n",
    "\n",
    "sce.combine.day1 = scMerge::sce_cbind(sce_list = sce.list[c(2,6)],\n",
    "                                 method = \"union\",\n",
    "                                 colData_names = colnames(colData(sce.list[[1]])),\n",
    "                                 batch_names = names(sce.list[c(2,6)]))\n",
    "\n",
    "sce.combine.day234 = scMerge::sce_cbind(sce_list = sce.list[c(3,4,7)],\n",
    "                                 method = \"union\",\n",
    "                                 colData_names = colnames(colData(sce.list[[1]])),\n",
    "                                 batch_names = names(sce.list[c(3,4,7)]))"
   ]
  },
  {
   "cell_type": "code",
   "execution_count": null,
   "metadata": {},
   "outputs": [],
   "source": [
    "colData(sce.combine.day0)$exp <- NULL\n",
    "colData(sce.combine.day1)$exp <- NULL\n",
    "colData(sce.combine.day234)$exp <- NULL"
   ]
  },
  {
   "cell_type": "code",
   "execution_count": null,
   "metadata": {},
   "outputs": [],
   "source": [
    "colnames(sce.combine.day0) <- paste0(rownames(colData(sce.combine.day0)), \"_\", 1:nrow(colData(sce.combine.day0)))\n",
    "colnames(sce.combine.day1) <- paste0(rownames(colData(sce.combine.day1)), \"_\", 1:nrow(colData(sce.combine.day1)))\n",
    "colnames(sce.combine.day234) <- paste0(rownames(colData(sce.combine.day234)), \"_\", 1:nrow(colData(sce.combine.day234)))"
   ]
  },
  {
   "cell_type": "code",
   "execution_count": null,
   "metadata": {},
   "outputs": [],
   "source": [
    "sce.combine.day0$batch <- as.factor(sce.combine.day0$batch)\n",
    "sce.combine.day0$batch %>% levels()\n",
    "sce.combine.day1$batch <- as.factor(sce.combine.day1$batch)\n",
    "sce.combine.day1$batch %>% levels()\n",
    "sce.combine.day234$batch <- as.factor(sce.combine.day234$batch)\n",
    "sce.combine.day234$batch %>% levels()"
   ]
  },
  {
   "cell_type": "markdown",
   "metadata": {},
   "source": [
    "## Unsupervised merging"
   ]
  },
  {
   "cell_type": "code",
   "execution_count": null,
   "metadata": {},
   "outputs": [],
   "source": [
    "data(\"segList_ensemblGeneID\", package = \"scMerge\")\n",
    "\n",
    "ensembl <- useMart(\"ensembl\", dataset=\"hsapiens_gene_ensembl\")\n",
    "bioMart_annot <- getBM(attributes=c('external_gene_name', 'ensembl_gene_id'),\n",
    "             values = segList_ensemblGeneID$human$human_scSEG,\n",
    "             mart = ensembl)"
   ]
  },
  {
   "cell_type": "code",
   "execution_count": null,
   "metadata": {},
   "outputs": [],
   "source": [
    "segList_ensemblGeneID$human$human_scSEG %>% head()"
   ]
  },
  {
   "cell_type": "code",
   "execution_count": null,
   "metadata": {},
   "outputs": [],
   "source": [
    "cat(paste0(\"Analysis started at: \", Sys.time(), \"\\n\"))\n",
    "\n",
    "rownames.ensembl <- bioMart_annot$ensembl_gene_id[bioMart_annot$external_gene_name %in% rownames(sce.combine.day0)]\n",
    "names(rownames.ensembl) <- bioMart_annot$external_gene_name[bioMart_annot$external_gene_name %in% rownames(sce.combine.day0)]\n",
    "\n",
    "scMerge.day0 = scMerge(\n",
    "  sce_combine = sce.combine.day0,\n",
    "  ctl = which(rownames.ensembl[rownames(sce.combine.day0)] %in% segList_ensemblGeneID$human$human_scSEG),\n",
    "  kmeansK = c(3, 3),\n",
    "  replicate_prop = 1,\n",
    "  marker = hvg.day0,\n",
    "  assay_name = \"scMerge_unsupervised\",\n",
    "  BPPARAM = cores,\n",
    "  verbose = TRUE)\n",
    "cat(paste0(\"\\nAnalysis finished at: \", Sys.time()))"
   ]
  },
  {
   "cell_type": "code",
   "execution_count": null,
   "metadata": {},
   "outputs": [],
   "source": [
    "cat(paste0(\"Analysis started at: \", Sys.time(), \"\\n\"))\n",
    "\n",
    "rownames.ensembl <- bioMart_annot$ensembl_gene_id[bioMart_annot$external_gene_name %in% rownames(sce.combine.day1)]\n",
    "names(rownames.ensembl) <- bioMart_annot$external_gene_name[bioMart_annot$external_gene_name %in% rownames(sce.combine.day1)]\n",
    "\n",
    "scMerge.day1 = scMerge(\n",
    "  sce_combine = sce.combine.day1,\n",
    "  ctl = which(rownames.ensembl[rownames(sce.combine.day1)] %in% segList_ensemblGeneID$human$human_scSEG),\n",
    "  kmeansK = c(3, 3),\n",
    "  replicate_prop = 1,\n",
    "  marker = hvg.day1,\n",
    "  assay_name = \"scMerge_unsupervised\",\n",
    "  BPPARAM = cores,\n",
    "  verbose = TRUE)\n",
    "cat(paste0(\"\\nAnalysis finished at: \", Sys.time()))"
   ]
  },
  {
   "cell_type": "code",
   "execution_count": null,
   "metadata": {},
   "outputs": [],
   "source": [
    "cat(paste0(\"Analysis started at: \", Sys.time(), \"\\n\"))\n",
    "\n",
    "rownames.ensembl <- bioMart_annot$ensembl_gene_id[bioMart_annot$external_gene_name %in% rownames(sce.combine.day234)]\n",
    "names(rownames.ensembl) <- bioMart_annot$external_gene_name[bioMart_annot$external_gene_name %in% rownames(sce.combine.day234)]\n",
    "\n",
    "scMerge.day234 = scMerge(\n",
    "  sce_combine = sce.combine.day234,\n",
    "  ctl = which(rownames.ensembl[rownames(sce.combine.day234)] %in% segList_ensemblGeneID$human$human_scSEG),\n",
    "  kmeansK = c(5,5,5),\n",
    "  replicate_prop = 1,\n",
    "  marker = hvg.day234,\n",
    "  assay_name = \"scMerge_unsupervised\",\n",
    "  BPPARAM = cores,\n",
    "  verbose = TRUE)\n",
    "\n",
    "cat(paste0(\"\\nAnalysis finished at: \", Sys.time()))"
   ]
  },
  {
   "cell_type": "code",
   "execution_count": null,
   "metadata": {},
   "outputs": [],
   "source": [
    "scMerge.day234"
   ]
  },
  {
   "cell_type": "code",
   "execution_count": null,
   "metadata": {},
   "outputs": [],
   "source": [
    "sce.combined = scMerge::sce_cbind(sce_list = sce.list,\n",
    "                                 method = \"union\",\n",
    "                                 colData_names = colnames(colData(sce.list[[1]])),\n",
    "                                 batch_names = names(sce.list))"
   ]
  },
  {
   "cell_type": "code",
   "execution_count": null,
   "metadata": {},
   "outputs": [],
   "source": [
    "colnames(sce.combined) <- paste0(rownames(colData(sce.combined)), \"_\", 1:nrow(colData(sce.combined)))"
   ]
  },
  {
   "cell_type": "code",
   "execution_count": null,
   "metadata": {},
   "outputs": [],
   "source": [
    "colnames(sce.combined) %>% head()"
   ]
  },
  {
   "cell_type": "code",
   "execution_count": null,
   "metadata": {},
   "outputs": [],
   "source": [
    "sce.combined$batch <- as.factor(sce.combined$batch)\n",
    "sce.combined$batch %>% levels()"
   ]
  },
  {
   "cell_type": "markdown",
   "metadata": {},
   "source": [
    "### Downstream analysis - scMerge all days as day0, day1, day234"
   ]
  },
  {
   "cell_type": "code",
   "execution_count": null,
   "metadata": {},
   "outputs": [],
   "source": [
    "sce.scmerge.list1 <- list(scMerge.day0, scMerge.day1, scMerge.day234)"
   ]
  },
  {
   "cell_type": "code",
   "execution_count": null,
   "metadata": {},
   "outputs": [],
   "source": [
    "sce.scmerge.list1 <- lapply(sce.scmerge.list1, function(x){\n",
    "    x$exp <- x$batch\n",
    "    return(x)\n",
    "})"
   ]
  },
  {
   "cell_type": "code",
   "execution_count": null,
   "metadata": {},
   "outputs": [],
   "source": [
    "sce.scmerge.list1[[2]]"
   ]
  },
  {
   "cell_type": "code",
   "execution_count": null,
   "metadata": {},
   "outputs": [],
   "source": [
    "sce.scmerge.days01234 = scMerge::sce_cbind(sce_list = sce.scmerge.list1,\n",
    "                                 method = \"union\",\n",
    "                                 exprs = c(\"counts\", \"logcounts\", \"scMerge_unsupervised\"),\n",
    "                                 colData_names = colnames(colData(sce.scmerge.list1[[1]])),\n",
    "                                 batch_names = NULL)"
   ]
  },
  {
   "cell_type": "code",
   "execution_count": null,
   "metadata": {},
   "outputs": [],
   "source": [
    "sce.scmerge.days01234$batch <- sce.scmerge.days01234$exp\n",
    "sce.scmerge.days01234$exp <- NULL"
   ]
  },
  {
   "cell_type": "code",
   "execution_count": null,
   "metadata": {},
   "outputs": [],
   "source": [
    "colData(sce.scmerge.days01234)"
   ]
  },
  {
   "cell_type": "code",
   "execution_count": null,
   "metadata": {},
   "outputs": [],
   "source": [
    "sce.scmerge.days01234"
   ]
  },
  {
   "cell_type": "code",
   "execution_count": null,
   "metadata": {},
   "outputs": [],
   "source": [
    "set.seed(2020)\n",
    "pca <- calculatePCA(sce.scmerge.days01234, exprs_values=\"scMerge_unsupervised\", ntop = 500)\n",
    "tsne <- calculateTSNE(sce.scmerge.days01234, exprs_values=\"scMerge_unsupervised\", ntop = 500)\n",
    "umap <- calculateUMAP(sce.scmerge.days01234, exprs_values=\"scMerge_unsupervised\", ntop = 500)\n",
    "\n",
    "reducedDims(sce.scmerge.days01234) <- SimpleList(PCA = pca, \n",
    "                                    TSNE = tsne,\n",
    "                                    UMAP = umap)"
   ]
  },
  {
   "cell_type": "code",
   "execution_count": null,
   "metadata": {},
   "outputs": [],
   "source": [
    "set_ind <- \"20210306_scMerge_ind\"\n",
    "saveRDS(sce.scmerge.days01234, file = paste0(outDir, set_ind, \"_hiSC_RD.RDS\"))\n",
    "cat(\"File saved at: \\n\", paste0(outDir, set_ind, \"_hiSC_RD.RDS\"))"
   ]
  },
  {
   "cell_type": "code",
   "execution_count": null,
   "metadata": {},
   "outputs": [],
   "source": [
    "set_ind <- \"20210306_scMerge_ind\"\n",
    "sce.scmerge.days01234 <- readRDS(paste0(outDir, set_ind, \"_hiSC_RD.RDS\"))"
   ]
  },
  {
   "cell_type": "code",
   "execution_count": null,
   "metadata": {},
   "outputs": [],
   "source": [
    "sce.scmerge.days01234"
   ]
  },
  {
   "cell_type": "code",
   "execution_count": null,
   "metadata": {},
   "outputs": [],
   "source": [
    "types <- c(\"day\", \"batch\")\n",
    "types"
   ]
  },
  {
   "cell_type": "code",
   "execution_count": null,
   "metadata": {},
   "outputs": [],
   "source": [
    "set"
   ]
  },
  {
   "cell_type": "code",
   "execution_count": null,
   "metadata": {},
   "outputs": [],
   "source": [
    "paste0(outDir, set, \"_Part6_PCA_types_merged_op5.pdf\")"
   ]
  },
  {
   "cell_type": "code",
   "execution_count": null,
   "metadata": {},
   "outputs": [],
   "source": [
    "options(repr.plot.width=10, repr.plot.height=7)\n",
    "plots <- lapply(types, function(x){\n",
    "    dittoDimPlot(sce.scmerge.days01234, x, \n",
    "             reduction.use = \"PCA\", \n",
    "             legend.title = x, main = x, order = \"decreasing\") + ggtheme_hx\n",
    "    \n",
    "})\n",
    "plots\n",
    "pdf(file = paste0(outDir, set, \"_Part6_PCA_types_merged_op5.pdf\"), width = 10, height = 7)\n",
    "plots\n",
    "dev.off()"
   ]
  },
  {
   "cell_type": "code",
   "execution_count": null,
   "metadata": {},
   "outputs": [],
   "source": [
    "options(repr.plot.width=10, repr.plot.height=7)\n",
    "plots <- lapply(types, function(x){\n",
    "    dittoDimPlot(sce.scmerge.days01234, x, \n",
    "             reduction.use = \"PCA\", \n",
    "             legend.title = x, main = x, order = \"decreasing\", opacity = 0.5) + ggtheme_hx\n",
    "    \n",
    "})\n",
    "plots\n",
    "pdf(file = paste0(outDir, set, \"_Part6_PCA_types_merged_or_op5.pdf\"), width = 10, height = 7)\n",
    "plots\n",
    "dev.off()"
   ]
  },
  {
   "cell_type": "code",
   "execution_count": null,
   "metadata": {},
   "outputs": [],
   "source": [
    "options(repr.plot.width=10, repr.plot.height=7)\n",
    "plots <- lapply(types, function(x){\n",
    "    dittoDimPlot(sce.scmerge.days01234, x, \n",
    "             reduction.use = \"UMAP\", \n",
    "             legend.title = x, main = x, order = \"decreasing\", opacity = 0.5) + ggtheme_hx\n",
    "    \n",
    "})\n",
    "plots\n",
    "pdf(file = paste0(outDir, set, \"_Part6_UMAP_types_merged_op5.pdf\"), width = 10, height = 7)\n",
    "plots\n",
    "dev.off()"
   ]
  },
  {
   "cell_type": "code",
   "execution_count": null,
   "metadata": {},
   "outputs": [],
   "source": [
    "options(repr.plot.width=10, repr.plot.height=7)\n",
    "plots <- lapply(types, function(x){\n",
    "    dittoDimPlot(sce.scmerge.days01234, x, \n",
    "             reduction.use = \"TSNE\", \n",
    "             legend.title = x, main = x, order = \"decreasing\", opacity = 0.5) + ggtheme_hx\n",
    "    \n",
    "})\n",
    "plots\n",
    "pdf(file = paste0(outDir, set, \"_Part6_TSNE_types_merged_op5.pdf\"), width = 10, height = 7)\n",
    "plots\n",
    "dev.off()"
   ]
  },
  {
   "cell_type": "code",
   "execution_count": null,
   "metadata": {},
   "outputs": [],
   "source": [
    "plotPCA(sce.scmerge.days01234, colour_by = \"batch\")"
   ]
  },
  {
   "cell_type": "code",
   "execution_count": null,
   "metadata": {},
   "outputs": [],
   "source": [
    "plotTSNE(sce.scmerge.days01234, colour_by = \"batch\")"
   ]
  },
  {
   "cell_type": "code",
   "execution_count": null,
   "metadata": {},
   "outputs": [],
   "source": [
    "plotUMAP(sce.scmerge.days01234, colour_by = \"batch\")"
   ]
  },
  {
   "cell_type": "code",
   "execution_count": null,
   "metadata": {},
   "outputs": [],
   "source": [
    "options(repr.plot.width=19, repr.plot.height=9)\n",
    "plots <- lapply(types, function(x){\n",
    "    dittoDimPlot(sce.scmerge.days01234, x, \n",
    "             reduction.use = \"PCA\", split.by = \"day\", \n",
    "             legend.title = x, main = x) + ggtheme_hx\n",
    "    \n",
    "})\n",
    "plots"
   ]
  },
  {
   "cell_type": "code",
   "execution_count": null,
   "metadata": {},
   "outputs": [],
   "source": [
    "options(repr.plot.width=19, repr.plot.height=9)\n",
    "plots <- lapply(types, function(x){\n",
    "    dittoDimPlot(sce.scmerge.days01234, x, \n",
    "             reduction.use = \"UMAP\", split.by = \"day\", \n",
    "             legend.title = x, main = x) + ggtheme_hx\n",
    "    \n",
    "})\n",
    "plots"
   ]
  },
  {
   "cell_type": "code",
   "execution_count": null,
   "metadata": {},
   "outputs": [],
   "source": [
    "options(repr.plot.width=19, repr.plot.height=9)\n",
    "plots <- lapply(types, function(x){\n",
    "    dittoDimPlot(sce.scmerge.days01234, x, \n",
    "             reduction.use = \"TSNE\", split.by = \"day\", \n",
    "             legend.title = x, main = x) + ggtheme_hx\n",
    "    \n",
    "})\n",
    "plots"
   ]
  },
  {
   "cell_type": "markdown",
   "metadata": {},
   "source": [
    "## Figures merged"
   ]
  },
  {
   "cell_type": "code",
   "execution_count": null,
   "metadata": {},
   "outputs": [],
   "source": [
    "sce.scmerge.days01234"
   ]
  },
  {
   "cell_type": "code",
   "execution_count": null,
   "metadata": {},
   "outputs": [],
   "source": [
    "options(repr.plot.width=9, repr.plot.height=7)\n",
    "plotPCA(sce.scmerge.days01234, colour_by = \"batch\")"
   ]
  },
  {
   "cell_type": "code",
   "execution_count": null,
   "metadata": {},
   "outputs": [],
   "source": [
    "plotTSNE(sce.scmerge.days01234, colour_by = \"batch\")"
   ]
  },
  {
   "cell_type": "code",
   "execution_count": null,
   "metadata": {},
   "outputs": [],
   "source": [
    "plotUMAP(sce.scmerge.days01234, colour_by = \"batch\")"
   ]
  },
  {
   "cell_type": "markdown",
   "metadata": {},
   "source": [
    "## Figures merged"
   ]
  },
  {
   "cell_type": "code",
   "execution_count": null,
   "metadata": {},
   "outputs": [],
   "source": [
    "sce.scmerge.days01234"
   ]
  },
  {
   "cell_type": "code",
   "execution_count": null,
   "metadata": {},
   "outputs": [],
   "source": [
    "PCA1 <- as.matrix(reducedDims(sce.scmerge.days01234)[[\"PCA\"]][,1] * -1)\n",
    "colnames(PCA1) <- \"pc1\"\n",
    "PCA1 %>% head()"
   ]
  },
  {
   "cell_type": "code",
   "execution_count": null,
   "metadata": {},
   "outputs": [],
   "source": [
    "UMAP1 <- as.matrix(reducedDims(sce.scmerge.days01234)[[\"UMAP\"]][,1] * -1)\n",
    "colnames(UMAP1) <- \"umap1\"\n",
    "UMAP1 %>% head()"
   ]
  },
  {
   "cell_type": "code",
   "execution_count": null,
   "metadata": {},
   "outputs": [],
   "source": [
    "TSNE1 <- as.matrix(reducedDims(sce.scmerge.days01234)[[\"TSNE\"]][,2] * -1)\n",
    "colnames(TSNE1) <- \"tsne1\"\n",
    "TSNE1 %>% head()"
   ]
  },
  {
   "cell_type": "code",
   "execution_count": null,
   "metadata": {},
   "outputs": [],
   "source": [
    "reducedDims(sce.scmerge.days01234)[[\"PCA1\"]] <- PCA1\n",
    "reducedDims(sce.scmerge.days01234)[[\"UMAP1\"]] <- UMAP1\n",
    "reducedDims(sce.scmerge.days01234)[[\"TSNE1\"]] <- TSNE1"
   ]
  },
  {
   "cell_type": "code",
   "execution_count": null,
   "metadata": {},
   "outputs": [],
   "source": [
    "#Run slingshot\n",
    "slingshot_pca <- slingshot(sce.scmerge.days01234, reducedDim=\"PCA1\")\n",
    "slingshot_umap <- slingshot(sce.scmerge.days01234, reducedDim=\"UMAP1\")\n",
    "slingshot_tsne <- slingshot(sce.scmerge.days01234, reducedDim=\"TSNE1\")"
   ]
  },
  {
   "cell_type": "code",
   "execution_count": null,
   "metadata": {},
   "outputs": [],
   "source": [
    "colData(slingshot_pca)"
   ]
  },
  {
   "cell_type": "code",
   "execution_count": null,
   "metadata": {},
   "outputs": [],
   "source": [
    "# Let's scale the slingPseudotime_1 data\n",
    "library(scales)\n",
    "colData(slingshot_pca)$scaled_slingPseudotime_1 <- rescale(colData(slingshot_pca)$slingPseudotime_1, c(0,1))\n",
    "colData(slingshot_tsne)$scaled_slingPseudotime_1 <- rescale(colData(slingshot_tsne)$slingPseudotime_1, c(0,1))\n",
    "colData(slingshot_umap)$scaled_slingPseudotime_1 <- rescale(colData(slingshot_umap)$slingPseudotime_1, c(0,1))\n",
    "sce <- slingshot_pca\n",
    "\n",
    "colData(sce)$slingPseudotime_1 <- NULL\n",
    "colData(sce)$scaled_slingPseudotime_1 <- NULL\n",
    "\n",
    "colData(sce)$slingPseudotime_pca <- colData(slingshot_pca)$slingPseudotime_1\n",
    "colData(sce)$slingPseudotime_tsne <- colData(slingshot_tsne)$slingPseudotime_1\n",
    "colData(sce)$slingPseudotime_umap <- colData(slingshot_umap)$slingPseudotime_1\n",
    "\n",
    "colData(sce)$scaled_time_pca <- colData(slingshot_pca)$scaled_slingPseudotime_1\n",
    "colData(sce)$scaled_time_tsne <- colData(slingshot_tsne)$scaled_slingPseudotime_1\n",
    "colData(sce)$scaled_time_umap <- colData(slingshot_umap)$scaled_slingPseudotime_1\n",
    "\n",
    "colData(sce)"
   ]
  },
  {
   "cell_type": "code",
   "execution_count": null,
   "metadata": {},
   "outputs": [],
   "source": [
    "set_ind <- \"20210406_scMerge_ind_ExFA2\"\n",
    "saveRDS(sce, file = paste0(outDir, set_ind, \"_hiSC_dbl_RD_slingshot.RDS\"))\n",
    "cat(\"File saved at: \\n\", paste0(outDir, set_ind, \"_hiSC_dbl_RD_slingshot.RDS\"))"
   ]
  },
  {
   "cell_type": "code",
   "execution_count": null,
   "metadata": {},
   "outputs": [],
   "source": [
    "set_ind <- \"20210406_scMerge_ind_ExFA2\"\n",
    "sce <- readRDS(paste0(outDir, set_ind, \"_hiSC_dbl_RD_slingshot.RDS\"))"
   ]
  },
  {
   "cell_type": "code",
   "execution_count": null,
   "metadata": {},
   "outputs": [],
   "source": [
    "meta <- as.data.frame(colData(sce))"
   ]
  },
  {
   "cell_type": "code",
   "execution_count": null,
   "metadata": {},
   "outputs": [],
   "source": [
    "meta %>% head()"
   ]
  },
  {
   "cell_type": "code",
   "execution_count": null,
   "metadata": {},
   "outputs": [],
   "source": [
    "days <- meta$day %>% \n",
    "        levels()\n",
    "days"
   ]
  },
  {
   "cell_type": "code",
   "execution_count": null,
   "metadata": {},
   "outputs": [],
   "source": [
    "days[1:3]"
   ]
  },
  {
   "cell_type": "code",
   "execution_count": null,
   "metadata": {},
   "outputs": [],
   "source": [
    "meta.day0 <- meta %>%\n",
    "        dplyr::filter(day == \"day0\")\n",
    "\n",
    "meta.day1 <- meta %>%\n",
    "        dplyr::filter(day == \"day1\")\n",
    "\n",
    "meta.day2 <- meta %>%\n",
    "        dplyr::filter(day == \"day2\" | day == \"day4\")\n",
    "\n",
    "meta.day3 <- meta %>%\n",
    "        dplyr::filter(day == \"day3\" | day == \"day4\")\n",
    "\n",
    "meta.days <- list(meta.day0, meta.day1, meta.day2, meta.day3)\n",
    "names(meta.days) <- days[1:4]"
   ]
  },
  {
   "cell_type": "code",
   "execution_count": null,
   "metadata": {},
   "outputs": [],
   "source": [
    "lapply(meta.days, head)"
   ]
  },
  {
   "cell_type": "code",
   "execution_count": null,
   "metadata": {},
   "outputs": [],
   "source": [
    "Pseudotime_pca <- lapply(meta.days, function(x){\n",
    "    with(x, tapply(scaled_time_pca, donor, mean))\n",
    "})\n",
    "Pseudotime_umap <- lapply(meta.days, function(x){\n",
    "    with(x, tapply(scaled_time_umap, donor, mean))\n",
    "})\n",
    "Pseudotime_tsne <- lapply(meta.days, function(x){\n",
    "    with(x, tapply(scaled_time_tsne, donor, mean))\n",
    "})"
   ]
  },
  {
   "cell_type": "code",
   "execution_count": null,
   "metadata": {},
   "outputs": [],
   "source": [
    "lapply(Pseudotime_pca, dim)"
   ]
  },
  {
   "cell_type": "code",
   "execution_count": null,
   "metadata": {},
   "outputs": [],
   "source": [
    "lapply(Pseudotime_umap, dim)"
   ]
  },
  {
   "cell_type": "code",
   "execution_count": null,
   "metadata": {},
   "outputs": [],
   "source": [
    "lapply(Pseudotime_tsne, dim)"
   ]
  },
  {
   "cell_type": "code",
   "execution_count": null,
   "metadata": {},
   "outputs": [],
   "source": [
    "# Let's remove the donors which they had no values.\n",
    "Pseudotime_pca <- lapply(Pseudotime_pca, function(x){\n",
    "    x[!is.na(x)]\n",
    "})\n",
    "Pseudotime_umap <- lapply(Pseudotime_umap, function(x){\n",
    "    x[!is.na(x)]\n",
    "})\n",
    "Pseudotime_tsne <- lapply(Pseudotime_tsne, function(x){\n",
    "    x[!is.na(x)]\n",
    "})"
   ]
  },
  {
   "cell_type": "code",
   "execution_count": null,
   "metadata": {},
   "outputs": [],
   "source": [
    "lapply(Pseudotime_pca, dim)"
   ]
  },
  {
   "cell_type": "code",
   "execution_count": null,
   "metadata": {},
   "outputs": [],
   "source": [
    "lapply(Pseudotime_umap, dim)"
   ]
  },
  {
   "cell_type": "code",
   "execution_count": null,
   "metadata": {},
   "outputs": [],
   "source": [
    "lapply(Pseudotime_tsne, dim)"
   ]
  },
  {
   "cell_type": "code",
   "execution_count": null,
   "metadata": {},
   "outputs": [],
   "source": [
    "lapply(c(1:length(days[1:4])), function(x){\n",
    "    plot(1:length(sort(Pseudotime_pca[[x]], decreasing=T)), \n",
    "     sort(Pseudotime_pca[[x]], decreasing=T), \n",
    "     main=paste0(\"Pseudotime gradient with donors \" ,days[x]), \n",
    "         xlab = \"Donors ordered by Pseudotime\", \n",
    "         ylab = \"Pseudotime based on PCA\")\n",
    "    points(match(Pseudotime_pca[[x]][\"FA3\"], \n",
    "             sort(Pseudotime_pca[[x]], decreasing=T)), Pseudotime_pca[[x]][\"FA3\"],\n",
    "       pch=19, col=\"blue\")\n",
    "    points(match(Pseudotime_pca[[x]][\"MB2\"], \n",
    "             sort(Pseudotime_pca[[x]], decreasing=T)), Pseudotime_pca[[x]][\"MB2\"],\n",
    "       pch=19, col=\"green\")\n",
    "    points(match(Pseudotime_pca[[x]][\"MB3\"], \n",
    "             sort(Pseudotime_pca[[x]], decreasing=T)), Pseudotime_pca[[x]][\"MB3\"],\n",
    "       pch=19, col=\"orange\")\n",
    "})"
   ]
  },
  {
   "cell_type": "code",
   "execution_count": null,
   "metadata": {},
   "outputs": [],
   "source": [
    "lapply(c(1:length(days[1:4])), function(x){\n",
    "    plot(1:length(sort(Pseudotime_umap[[x]], decreasing=T)), \n",
    "     sort(Pseudotime_umap[[x]], decreasing=T), \n",
    "     main=paste0(\"Pseudotime gradient with donors \" ,days[x]), \n",
    "         xlab = \"Donors ordered by Pseudotime\", \n",
    "         ylab = \"Pseudotime based on UMAP\")\n",
    "    points(match(Pseudotime_umap[[x]][\"FA3\"], \n",
    "             sort(Pseudotime_umap[[x]], decreasing=T)), Pseudotime_umap[[x]][\"FA3\"],\n",
    "       pch=19, col=\"blue\")\n",
    "    points(match(Pseudotime_umap[[x]][\"MB2\"], \n",
    "             sort(Pseudotime_umap[[x]], decreasing=T)), Pseudotime_umap[[x]][\"MB2\"],\n",
    "       pch=19, col=\"green\")\n",
    "    points(match(Pseudotime_umap[[x]][\"MB3\"], \n",
    "             sort(Pseudotime_umap[[x]], decreasing=T)), Pseudotime_umap[[x]][\"MB3\"],\n",
    "       pch=19, col=\"orange\")\n",
    "})"
   ]
  },
  {
   "cell_type": "code",
   "execution_count": null,
   "metadata": {},
   "outputs": [],
   "source": [
    "lapply(c(1:length(days[1:4])), function(x){\n",
    "    plot(1:length(sort(Pseudotime_tsne[[x]], decreasing=T)), \n",
    "     sort(Pseudotime_tsne[[x]], decreasing=T), \n",
    "     main=paste0(\"Pseudotime gradient with donors \" ,days[x]), \n",
    "         xlab = \"Donors ordered by Pseudotime\", \n",
    "         ylab = \"Pseudotime based on TSNE\")\n",
    "    points(match(Pseudotime_tsne[[x]][\"FA3\"], \n",
    "             sort(Pseudotime_tsne[[x]], decreasing=T)), Pseudotime_tsne[[x]][\"FA3\"],\n",
    "       pch=19, col=\"blue\")\n",
    "    points(match(Pseudotime_tsne[[x]][\"MB2\"], \n",
    "             sort(Pseudotime_tsne[[x]], decreasing=T)), Pseudotime_tsne[[x]][\"MB2\"], \n",
    "       pch=19, col=\"green\")\n",
    "    points(match(Pseudotime_tsne[[x]][\"MB3\"], \n",
    "             sort(Pseudotime_tsne[[x]], decreasing=T)), Pseudotime_tsne[[x]][\"MB3\"],\n",
    "       pch=19, col=\"orange\")\n",
    "})"
   ]
  },
  {
   "cell_type": "code",
   "execution_count": null,
   "metadata": {},
   "outputs": [],
   "source": [
    "# Let's combine the tables\n",
    "flat.Pseudotime_pca <- as.data.frame(bind_rows(Pseudotime_pca, .id = \"days\"))\n",
    "flat.Pseudotime_umap <- as.data.frame(bind_rows(Pseudotime_umap, .id = \"days\"))\n",
    "flat.Pseudotime_tsne <- as.data.frame(bind_rows(Pseudotime_tsne, .id = \"days\"))"
   ]
  },
  {
   "cell_type": "code",
   "execution_count": null,
   "metadata": {},
   "outputs": [],
   "source": [
    "flat.Pseudotime_pca"
   ]
  },
  {
   "cell_type": "code",
   "execution_count": null,
   "metadata": {},
   "outputs": [],
   "source": [
    "flat.Pseudotime_umap"
   ]
  },
  {
   "cell_type": "code",
   "execution_count": null,
   "metadata": {},
   "outputs": [],
   "source": [
    "flat.Pseudotime_tsne"
   ]
  },
  {
   "cell_type": "code",
   "execution_count": null,
   "metadata": {},
   "outputs": [],
   "source": [
    "meltdf <- as.data.frame(melt(flat.Pseudotime_pca,id=\"days\"))\n",
    "ggplot(meltdf,aes(x=days,y=value,colour=variable,group=variable)) + \n",
    "  geom_line(show.legend = FALSE) + \n",
    "  geom_point(show.legend = FALSE) +\n",
    "  theme_bw() +\n",
    "  labs(title=\"Time Series for\", \n",
    "       subtitle=\"All donors for all timepoints\", \n",
    "       caption=\"Osteil data merged with Cuomo et al 2020\", \n",
    "       x = \"Days\", \n",
    "       y = \"Pseudotime based on PCA\")"
   ]
  },
  {
   "cell_type": "code",
   "execution_count": null,
   "metadata": {},
   "outputs": [],
   "source": [
    "Pseudotime_pca <- lapply(meta.days, function(x){\n",
    "    mean <- with(x, tapply(scaled_time_pca, donor, mean))\n",
    "    SD <- with(x, tapply(scaled_time_pca, donor, sd))\n",
    "    df <- cbind(mean, SD) %>% \n",
    "        as.data.frame() %>%\n",
    "        arrange(desc(mean))\n",
    "    return(df)\n",
    "})"
   ]
  },
  {
   "cell_type": "code",
   "execution_count": null,
   "metadata": {},
   "outputs": [],
   "source": [
    "days\n",
    "# Pseudotime_pca\n",
    "rownames(Pseudotime_pca$day0)"
   ]
  },
  {
   "cell_type": "markdown",
   "metadata": {},
   "source": [
    "## Extracting top/buttom 20 donors"
   ]
  },
  {
   "cell_type": "code",
   "execution_count": null,
   "metadata": {},
   "outputs": [],
   "source": [
    "donor.pca.top20 <- lapply(Pseudotime_pca, function(x){\n",
    "    s <- x %>%\n",
    "        arrange(desc(mean)) %>%\n",
    "        slice_head(n = 20) %>%\n",
    "        rownames()\n",
    "    s <- union(s, c(\"FA3\", \"MB2\", \"MB3\"))\n",
    "    return(s)\n",
    "})\n",
    "names(donor.pca.top20) <- paste0(days[1:4], \"-top20\")\n",
    "donor.pca.top20"
   ]
  },
  {
   "cell_type": "code",
   "execution_count": null,
   "metadata": {},
   "outputs": [],
   "source": [
    "donor.pca.low20 <- lapply(Pseudotime_pca, function(x){\n",
    "      s <-  x %>%\n",
    "        arrange(mean) %>%\n",
    "        slice_head(n = 20) %>%\n",
    "        rownames()\n",
    "    s <- union(s, c(\"FA3\", \"MB2\", \"MB3\"))\n",
    "    return(s)\n",
    "})\n",
    "names(donor.pca.low20) <- paste0(days[1:4], \"-low20\")\n",
    "donor.pca.low20"
   ]
  },
  {
   "cell_type": "code",
   "execution_count": null,
   "metadata": {},
   "outputs": [],
   "source": [
    "donor.pca.min.max.20 <- lapply(c(1:4), function(x){\n",
    "    union(donor.pca.top20[[x]], donor.pca.low20[[x]])\n",
    "})\n",
    "names(donor.pca.min.max.20) <- paste0(days[1:4], \"-min.max.20\")\n",
    "donor.pca.min.max.20"
   ]
  },
  {
   "cell_type": "code",
   "execution_count": null,
   "metadata": {},
   "outputs": [],
   "source": [
    "meltdf <- as.data.frame(melt(flat.Pseudotime_pca,id=\"days\"))\n",
    "meltdf.top20 <- lapply(donor.pca.top20, function(x){\n",
    "    meltdf[is.element(meltdf$variable, x), ]\n",
    "})\n",
    "\n",
    "meltdf.low20 <- lapply(donor.pca.low20, function(x){\n",
    "    meltdf[is.element(meltdf$variable, x), ]\n",
    "})\n",
    "meltdf.min.max.20 <- lapply(donor.pca.min.max.20, function(x){\n",
    "    meltdf[is.element(meltdf$variable, x), ]\n",
    "})"
   ]
  },
  {
   "cell_type": "code",
   "execution_count": null,
   "metadata": {},
   "outputs": [],
   "source": [
    "lapply(c(1:4), function(x){\n",
    "    ggplot(meltdf.top20[[x]],aes(x=days,y=value,colour=variable,group=variable)) + \n",
    "      geom_line(show.legend = TRUE) + \n",
    "      geom_point(show.legend = TRUE) +\n",
    "      theme_bw() +\n",
    "      labs(title=\"Time Series\", \n",
    "           subtitle=paste0(\"Top 20 donors for \", names(meltdf.top20)[x]), \n",
    "           caption=\"Osteil merged with Cuomo et al 2020\", \n",
    "           x = \"Days\", \n",
    "           y = \"Pseudotime based on PCA\")\n",
    "})"
   ]
  },
  {
   "cell_type": "code",
   "execution_count": null,
   "metadata": {},
   "outputs": [],
   "source": [
    "lapply(c(1:4), function(x){\n",
    "    ggplot(meltdf.low20[[x]],aes(x=days,y=value,colour=variable,group=variable)) + \n",
    "      geom_line(show.legend = TRUE) + \n",
    "      geom_point(show.legend = TRUE) +\n",
    "      theme_bw() +\n",
    "      labs(title=\"Time Series\", \n",
    "           subtitle=paste0(\"Low 20 donors for \", names(meltdf.low20)[x]), \n",
    "           caption=\"Osteil merged with Cuomo et al 2020\", \n",
    "           x = \"Days\", \n",
    "           y = \"Pseudotime based on PCA\")\n",
    "})"
   ]
  },
  {
   "cell_type": "code",
   "execution_count": null,
   "metadata": {},
   "outputs": [],
   "source": [
    "lapply(c(1:4), function(x){\n",
    "    ggplot(meltdf.min.max.20[[x]],aes(x=days,y=value,colour=variable,group=variable)) + \n",
    "      geom_line(show.legend = TRUE) + \n",
    "      geom_point(show.legend = TRUE) +\n",
    "      theme_bw() +\n",
    "      labs(title=\"Time Series\", \n",
    "           subtitle=paste0(\"Donors for \", names(meltdf.min.max.20)[x]), \n",
    "           caption=\"Osteil merged with Cuomo et al 2020\", \n",
    "           y = \"Pseudotime based on PCA\")\n",
    "})"
   ]
  },
  {
   "cell_type": "code",
   "execution_count": null,
   "metadata": {},
   "outputs": [],
   "source": [
    "sce"
   ]
  },
  {
   "cell_type": "code",
   "execution_count": null,
   "metadata": {},
   "outputs": [],
   "source": [
    "colData(sce)"
   ]
  },
  {
   "cell_type": "code",
   "execution_count": null,
   "metadata": {},
   "outputs": [],
   "source": [
    "colData(sce)$topDay0 <- colData(sce)$donor\n",
    "colData(sce)$topDay1 <- colData(sce)$donor\n",
    "colData(sce)$topDay2 <- colData(sce)$donor\n",
    "colData(sce)$topDay3 <- colData(sce)$donor"
   ]
  },
  {
   "cell_type": "code",
   "execution_count": null,
   "metadata": {},
   "outputs": [],
   "source": [
    "colData(sce)"
   ]
  },
  {
   "cell_type": "code",
   "execution_count": null,
   "metadata": {},
   "outputs": [],
   "source": [
    "donor.pca.top20.Cuomo <- lapply(Pseudotime_pca, function(x){\n",
    "    s <- x %>%\n",
    "        arrange(desc(mean)) %>%\n",
    "        slice_head(n = 20) %>%\n",
    "        rownames()\n",
    "#     s <- union(s, c(\"FA2\", \"FA3\", \"MB2\", \"MB3\"))\n",
    "    return(s)\n",
    "})\n",
    "names(donor.pca.top20.Cuomo) <- paste0(days[1:4], \"-top20\")\n",
    "donor.pca.top20.Cuomo"
   ]
  },
  {
   "cell_type": "code",
   "execution_count": null,
   "metadata": {},
   "outputs": [],
   "source": [
    "donor.pca.low20.Cuomo <- lapply(Pseudotime_pca, function(x){\n",
    "      s <-  x %>%\n",
    "        arrange(mean) %>%\n",
    "        slice_head(n = 20) %>%\n",
    "        rownames()\n",
    "#     s <- union(s, c(\"FA2\", \"FA3\", \"MB2\", \"MB3\"))\n",
    "    return(s)\n",
    "})\n",
    "names(donor.pca.low20.Cuomo) <- paste0(days[1:4], \"-low20\")\n",
    "donor.pca.low20.Cuomo"
   ]
  },
  {
   "cell_type": "code",
   "execution_count": null,
   "metadata": {},
   "outputs": [],
   "source": [
    "colData(sce)$topDay0 <- gsub(paste(donor.pca.top20.Cuomo$`day0-top20`, collapse=\"|\"), \"day0_top20\", colData(sce)$topDay0)\n",
    "colData(sce)$topDay1  <- gsub(paste(donor.pca.top20.Cuomo$`day1-top20`, collapse=\"|\"), \"day1_top20\", colData(sce)$topDay1)\n",
    "colData(sce)$topDay2  <- gsub(paste(donor.pca.top20.Cuomo$`day2-top20`, collapse=\"|\"), \"day2_top20\", colData(sce)$topDay2)\n",
    "colData(sce)$topDay3  <- gsub(paste(donor.pca.top20.Cuomo$`day3-top20`, collapse=\"|\"), \"day3_top20\", colData(sce)$topDay3)"
   ]
  },
  {
   "cell_type": "code",
   "execution_count": null,
   "metadata": {},
   "outputs": [],
   "source": [
    "paste(donor.pca.top20.Cuomo$`day3-top20`, collapse=\"|\")"
   ]
  },
  {
   "cell_type": "code",
   "execution_count": null,
   "metadata": {},
   "outputs": [],
   "source": [
    "colData(sce)$topDay0 <- gsub(paste(donor.pca.low20.Cuomo$`day0-low20`, collapse=\"|\"), \"day0_low20\", colData(sce)$topDay0)\n",
    "colData(sce)$topDay1  <- gsub(paste(donor.pca.low20.Cuomo$`day1-low20`, collapse=\"|\"), \"day1_low20\", colData(sce)$topDay1)\n",
    "colData(sce)$topDay2  <- gsub(paste(donor.pca.low20.Cuomo$`day2-low20`, collapse=\"|\"), \"day2_low20\", colData(sce)$topDay2)\n",
    "colData(sce)$topDay3  <- gsub(paste(donor.pca.low20.Cuomo$`day3-low20`, collapse=\"|\"), \"day3_low20\", colData(sce)$topDay3)"
   ]
  },
  {
   "cell_type": "code",
   "execution_count": null,
   "metadata": {},
   "outputs": [],
   "source": [
    "levels(as.factor(colData(sce)$topDay0))\n",
    "levels(as.factor(colData(sce)$topDay1))\n",
    "levels(as.factor(colData(sce)$topDay2))\n",
    "levels(as.factor(colData(sce)$topDay3))"
   ]
  },
  {
   "cell_type": "code",
   "execution_count": null,
   "metadata": {},
   "outputs": [],
   "source": [
    "table(sce$topDay0)"
   ]
  },
  {
   "cell_type": "code",
   "execution_count": null,
   "metadata": {},
   "outputs": [],
   "source": [
    "table(sce$topDay1)"
   ]
  },
  {
   "cell_type": "code",
   "execution_count": null,
   "metadata": {},
   "outputs": [],
   "source": [
    "table(sce$topDay2)"
   ]
  },
  {
   "cell_type": "code",
   "execution_count": null,
   "metadata": {},
   "outputs": [],
   "source": [
    "table(sce$topDay3)"
   ]
  },
  {
   "cell_type": "code",
   "execution_count": null,
   "metadata": {},
   "outputs": [],
   "source": [
    "sce.day0.top <- subset(sce, , topDay0==\"day0_top20\")\n",
    "sce.day1.top <- subset(sce, , topDay1==\"day1_top20\")\n",
    "sce.day2.top <- subset(sce, , topDay2==\"day2_top20\")\n",
    "sce.day3.top <- subset(sce, , topDay3==\"day3_top20\")\n",
    "sce.day0.low <- subset(sce, , topDay0==\"day0_low20\")\n",
    "sce.day1.low <- subset(sce, , topDay1==\"day1_low20\")\n",
    "sce.day2.low <- subset(sce, , topDay2==\"day2_low20\")\n",
    "sce.day3.low <- subset(sce, , topDay3==\"day3_low20\")"
   ]
  },
  {
   "cell_type": "code",
   "execution_count": null,
   "metadata": {},
   "outputs": [],
   "source": [
    "table(sce.day0.top$topDay0)\n",
    "table(sce.day0.low$topDay0)\n",
    "table(sce.day1.top$topDay1)\n",
    "table(sce.day1.low$topDay1)\n",
    "table(sce.day2.top$topDay2)\n",
    "table(sce.day2.low$topDay2)\n",
    "table(sce.day3.top$topDay3)\n",
    "table(sce.day3.low$topDay3)"
   ]
  },
  {
   "cell_type": "code",
   "execution_count": null,
   "metadata": {},
   "outputs": [],
   "source": [
    "sce.topDays <- list(sce.day0.top, sce.day1.top, sce.day2.top, sce.day3.top,sce.day0.low, sce.day1.low, sce.day2.low, sce.day3.low)\n",
    "topNames <- c(\"sce.day0.top\", \"sce.day1.top\", \"sce.day2.top\", \"sce.day3.top\", \"sce.day0.low\", \"sce.day1.low\", \"sce.day2.low\", \"sce.day3.low\")\n",
    "names(sce.topDays) <- topNames"
   ]
  },
  {
   "cell_type": "code",
   "execution_count": null,
   "metadata": {},
   "outputs": [],
   "source": [
    "suppressWarnings({suppressMessages({\n",
    "    seuratObj.topDays <- lapply(names(sce.topDays), function(x){\n",
    "        as.Seurat(sce.topDays[[x]], counts = \"counts\", data = \"logcounts\", project = x)\n",
    "    })\n",
    "})})\n",
    "names(seuratObj.topDays) <- topNames"
   ]
  },
  {
   "cell_type": "code",
   "execution_count": null,
   "metadata": {},
   "outputs": [],
   "source": [
    "seuratObj.topDays"
   ]
  },
  {
   "cell_type": "code",
   "execution_count": null,
   "metadata": {},
   "outputs": [],
   "source": [
    "seuratObj.topDays.merged <- merge(seuratObj.topDays[[1]], y = c(seuratObj.topDays[[2]], seuratObj.topDays[[3]], seuratObj.topDays[[4]],\n",
    "                                                               seuratObj.topDays[[5]],seuratObj.topDays[[6]],seuratObj.topDays[[7]],seuratObj.topDays[[8]]), \n",
    "                                  add.cell.ids = topNames, \n",
    "                                  project = \"tops\")"
   ]
  },
  {
   "cell_type": "code",
   "execution_count": null,
   "metadata": {},
   "outputs": [],
   "source": [
    "levels(seuratObj.topDays.merged)"
   ]
  },
  {
   "cell_type": "code",
   "execution_count": null,
   "metadata": {},
   "outputs": [],
   "source": [
    "grep(\"day0.*low\", levels(seuratObj.topDays.merged), value=TRUE)"
   ]
  },
  {
   "cell_type": "code",
   "execution_count": null,
   "metadata": {},
   "outputs": [],
   "source": [
    "group1 = grep(\"day0.*top\", levels(seuratObj.topDays.merged), value=TRUE)\n",
    "group2 = grep(\"day0.*low\", levels(seuratObj.topDays.merged), value=TRUE)\n",
    "\n",
    "cat(\"\\nComparison:\\t\", group1, \"\\tversus\\t\", group2, \"\\n\")\n",
    "\n",
    "day0_markers <- FindMarkers(seuratObj.topDays.merged, \n",
    "                                  slot = \"data\", \n",
    "                                  ident.1 = group1, \n",
    "                                  ident.2 = group2, \n",
    "                                  test.use = \"wilcox\", \n",
    "                                  min.pct = 0.1)\n",
    "\n",
    "cat(\"\\nNumber of significant genes: \", nrow(day0_markers), \"\\n\\n\")\n",
    "\n",
    "day0_markers %>% head(10)"
   ]
  },
  {
   "cell_type": "code",
   "execution_count": null,
   "metadata": {},
   "outputs": [],
   "source": [
    "group1 = grep(\"day1.*top\", levels(seuratObj.topDays.merged), value=TRUE)\n",
    "group2 = grep(\"day1.*low\", levels(seuratObj.topDays.merged), value=TRUE)\n",
    "\n",
    "cat(\"\\nComparison:\\t\", group1, \"\\tversus\\t\", group2, \"\\n\")\n",
    "\n",
    "day1_markers <- FindMarkers(seuratObj.topDays.merged, \n",
    "                                  slot = \"data\", \n",
    "                                  ident.1 = group1, \n",
    "                                  ident.2 = group2, \n",
    "                                  test.use = \"wilcox\", \n",
    "                                  min.pct = 0.1)\n",
    "\n",
    "cat(\"\\nNumber of significant genes: \", nrow(day1_markers), \"\\n\\n\")\n",
    "\n",
    "day1_markers %>% head(10)"
   ]
  },
  {
   "cell_type": "code",
   "execution_count": null,
   "metadata": {},
   "outputs": [],
   "source": [
    "group1 = grep(\"day2.*top\", levels(seuratObj.topDays.merged), value=TRUE)\n",
    "group2 = grep(\"day2.*low\", levels(seuratObj.topDays.merged), value=TRUE)\n",
    "\n",
    "cat(\"\\nComparison:\\t\", group1, \"\\tversus\\t\", group2, \"\\n\")\n",
    "\n",
    "day2_markers <- FindMarkers(seuratObj.topDays.merged, \n",
    "                                  slot = \"data\", \n",
    "                                  ident.1 = group1, \n",
    "                                  ident.2 = group2, \n",
    "                                  test.use = \"wilcox\", \n",
    "                                  min.pct = 0.1)\n",
    "\n",
    "cat(\"\\nNumber of significant genes: \", nrow(day2_markers), \"\\n\\n\")\n",
    "\n",
    "day2_markers %>% head(10)"
   ]
  },
  {
   "cell_type": "code",
   "execution_count": null,
   "metadata": {},
   "outputs": [],
   "source": [
    "group1 = grep(\"day3.*top\", levels(seuratObj.topDays.merged), value=TRUE)\n",
    "group2 = grep(\"day3.*low\", levels(seuratObj.topDays.merged), value=TRUE)\n",
    "\n",
    "cat(\"\\nComparison:\\t\", group1, \"\\tversus\\t\", group2, \"\\n\")\n",
    "\n",
    "day3_markers <- FindMarkers(seuratObj.topDays.merged, \n",
    "                                  slot = \"data\", \n",
    "                                  ident.1 = group1, \n",
    "                                  ident.2 = group2, \n",
    "                                  test.use = \"wilcox\", \n",
    "                                  min.pct = 0.1)\n",
    "\n",
    "cat(\"\\nNumber of significant genes: \", nrow(day3_markers), \"\\n\\n\")\n",
    "\n",
    "day3_markers %>% head(10)"
   ]
  },
  {
   "cell_type": "code",
   "execution_count": null,
   "metadata": {},
   "outputs": [],
   "source": [
    "results.list <- lapply(ls(pattern = \".*_markers\"), get)\n",
    "names(results.list) <- ls(pattern = \".*_markers\")\n",
    "lapply(results.list, head)"
   ]
  },
  {
   "cell_type": "code",
   "execution_count": null,
   "metadata": {},
   "outputs": [],
   "source": [
    "resultsTblListAll <- lapply(results.list, function(x){\n",
    "    x %>%\n",
    "    tibble::rownames_to_column(var = \"GeneID\") %>%\n",
    "    arrange(p_val_adj)\n",
    "})"
   ]
  },
  {
   "cell_type": "code",
   "execution_count": null,
   "metadata": {},
   "outputs": [],
   "source": [
    "resultsTblList <- lapply(resultsTblListAll, function(x){\n",
    "    x %>%\n",
    "    dplyr::filter(p_val_adj < 0.05 & abs(avg_log2FC) > 0.5)\n",
    "})"
   ]
  },
  {
   "cell_type": "code",
   "execution_count": null,
   "metadata": {},
   "outputs": [],
   "source": [
    "flatDE <- bind_rows(resultsTblList, .id = \"Comparison\")\n",
    "writexl::write_xlsx(flatDE, paste0(outDir, set, \"_DEGs_FDR5.xlsx\"))\n",
    "\n",
    "flatAll <- bind_rows(resultsTblListAll, .id = \"Comparison\")\n",
    "writexl::write_xlsx(flatAll, paste0(outDir, set, \"_DEGs_all.xlsx\"))"
   ]
  },
  {
   "cell_type": "code",
   "execution_count": null,
   "metadata": {},
   "outputs": [],
   "source": [
    "sessionInfo()"
   ]
  }
 ],
 "metadata": {
  "kernelspec": {
   "display_name": "R 4.0.3",
   "language": "R",
   "name": "ir403"
  },
  "language_info": {
   "codemirror_mode": "r",
   "file_extension": ".r",
   "mimetype": "text/x-r-source",
   "name": "R",
   "pygments_lexer": "r",
   "version": "4.0.3"
  }
 },
 "nbformat": 4,
 "nbformat_minor": 4
}
